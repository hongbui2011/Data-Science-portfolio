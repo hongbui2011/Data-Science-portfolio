{
 "cells": [
  {
   "cell_type": "markdown",
   "id": "03bfe56f",
   "metadata": {},
   "source": [
    "### Analysis of MovieLens Data\n",
    "\n",
    "We are provided with the MovieLens data collected by the GroupLens Research Project at the University of Minnesota.\n",
    "In particular, the data was collected through the MovieLens web site (movielens.umn.edu), which records a number of users' ratings (1-5) towards their watched movies. Besides, simple demographic info (e.g., age and gender) for the users and descriptive info (e.g., title and genre) for the movies are provided. \n",
    "\n",
    "Originally, there are several separate files to record the user-movie rating info, user demographic info and movie descriptive info, we have conducted preliminary processing to map and merge the data into one csv file named 'movielens_data.csv'. The header of the csv file is shown below. \n",
    "\n",
    "| userId | age | gender | occupation| movieId | rating | genre | timestamp |\n",
    "    | ---- | ---- | ---- | ---- | ---- | ---- | ---- | ---- | \n",
    "    \n",
    "#### Description of Fields\n",
    "\n",
    "* __userId__ - the user's id\n",
    "* __age__ - the user's age\n",
    "* __gender__ - the user's gender\n",
    "* __occupation__ - the user's occupation\n",
    "* __movieId__ - the movie's id\n",
    "* __rating__ - the user's rating towards the movie\n",
    "* __genre__ - the genre of the movie\n",
    "* __timestamp__ - the timestamp indicating when the user rated the movie\n",
    "\n",
    "Note that, a same user (i.e., a same userId) corresponds to a same age/gender/occupation; a same movie (i.e., a same movieId) corresponds to a same genre; a same user (i.e., a same userId) may rate multiple movies and a same movie (i.e., a same movieId) may receive ratings from multiple users.\n",
    "\n",
    "There are four questions to explore with the data as shown below."
   ]
  },
  {
   "cell_type": "markdown",
   "id": "55934c71",
   "metadata": {},
   "source": [
    " #### Q1. Remove missing data\n",
    " \n",
    "Please remove the following records in the csv file: \n",
    " \n",
    " * age/gender/rating is missing\n",
    " * occupation is 'none'\n",
    "\n",
    "__Print the length of the data__ before and after removing the missing data.  "
   ]
  },
  {
   "cell_type": "code",
   "execution_count": 1,
   "id": "231ced9b",
   "metadata": {},
   "outputs": [],
   "source": [
    "#import libraries\n",
    "import pandas as pd\n",
    "import numpy as np\n",
    "import matplotlib.pyplot as plt\n",
    "%matplotlib inline\n",
    "import seaborn as sns\n",
    "sns.set_style('darkgrid')"
   ]
  },
  {
   "cell_type": "code",
   "execution_count": 2,
   "id": "4791b125",
   "metadata": {},
   "outputs": [
    {
     "data": {
      "text/html": [
       "<div>\n",
       "<style scoped>\n",
       "    .dataframe tbody tr th:only-of-type {\n",
       "        vertical-align: middle;\n",
       "    }\n",
       "\n",
       "    .dataframe tbody tr th {\n",
       "        vertical-align: top;\n",
       "    }\n",
       "\n",
       "    .dataframe thead th {\n",
       "        text-align: right;\n",
       "    }\n",
       "</style>\n",
       "<table border=\"1\" class=\"dataframe\">\n",
       "  <thead>\n",
       "    <tr style=\"text-align: right;\">\n",
       "      <th></th>\n",
       "      <th>userId</th>\n",
       "      <th>age</th>\n",
       "      <th>gender</th>\n",
       "      <th>occupation</th>\n",
       "      <th>movieId</th>\n",
       "      <th>rating</th>\n",
       "      <th>genre</th>\n",
       "      <th>timestamp</th>\n",
       "    </tr>\n",
       "  </thead>\n",
       "  <tbody>\n",
       "    <tr>\n",
       "      <th>0</th>\n",
       "      <td>196</td>\n",
       "      <td>49.0</td>\n",
       "      <td>M</td>\n",
       "      <td>writer</td>\n",
       "      <td>242</td>\n",
       "      <td>3.0</td>\n",
       "      <td>Comedy</td>\n",
       "      <td>881250949</td>\n",
       "    </tr>\n",
       "    <tr>\n",
       "      <th>1</th>\n",
       "      <td>186</td>\n",
       "      <td>39.0</td>\n",
       "      <td>F</td>\n",
       "      <td>executive</td>\n",
       "      <td>302</td>\n",
       "      <td>NaN</td>\n",
       "      <td>Crime</td>\n",
       "      <td>891717742</td>\n",
       "    </tr>\n",
       "    <tr>\n",
       "      <th>2</th>\n",
       "      <td>22</td>\n",
       "      <td>25.0</td>\n",
       "      <td>M</td>\n",
       "      <td>writer</td>\n",
       "      <td>377</td>\n",
       "      <td>1.0</td>\n",
       "      <td>Children</td>\n",
       "      <td>878887116</td>\n",
       "    </tr>\n",
       "    <tr>\n",
       "      <th>3</th>\n",
       "      <td>244</td>\n",
       "      <td>28.0</td>\n",
       "      <td>M</td>\n",
       "      <td>technician</td>\n",
       "      <td>51</td>\n",
       "      <td>2.0</td>\n",
       "      <td>Romance</td>\n",
       "      <td>880606923</td>\n",
       "    </tr>\n",
       "    <tr>\n",
       "      <th>4</th>\n",
       "      <td>166</td>\n",
       "      <td>47.0</td>\n",
       "      <td>NaN</td>\n",
       "      <td>educator</td>\n",
       "      <td>346</td>\n",
       "      <td>1.0</td>\n",
       "      <td>Drama</td>\n",
       "      <td>886397596</td>\n",
       "    </tr>\n",
       "  </tbody>\n",
       "</table>\n",
       "</div>"
      ],
      "text/plain": [
       "   userId   age gender  occupation  movieId  rating     genre  timestamp\n",
       "0     196  49.0      M      writer      242     3.0    Comedy  881250949\n",
       "1     186  39.0      F   executive      302     NaN     Crime  891717742\n",
       "2      22  25.0      M      writer      377     1.0  Children  878887116\n",
       "3     244  28.0      M  technician       51     2.0   Romance  880606923\n",
       "4     166  47.0    NaN    educator      346     1.0     Drama  886397596"
      ]
     },
     "execution_count": 2,
     "metadata": {},
     "output_type": "execute_result"
    }
   ],
   "source": [
    "# import dataset\n",
    "raw_df = pd.read_csv('files/movielens_data.csv')\n",
    "raw_df.head()"
   ]
  },
  {
   "cell_type": "code",
   "execution_count": 3,
   "id": "d431cdeb",
   "metadata": {},
   "outputs": [
    {
     "name": "stdout",
     "output_type": "stream",
     "text": [
      "(100000, 8)\n"
     ]
    }
   ],
   "source": [
    "# checking dataframe shape\n",
    "print(raw_df.shape)"
   ]
  },
  {
   "cell_type": "code",
   "execution_count": 4,
   "id": "847a39b5",
   "metadata": {},
   "outputs": [
    {
     "name": "stdout",
     "output_type": "stream",
     "text": [
      "<class 'pandas.core.frame.DataFrame'>\n",
      "RangeIndex: 100000 entries, 0 to 99999\n",
      "Data columns (total 8 columns):\n",
      " #   Column      Non-Null Count   Dtype  \n",
      "---  ------      --------------   -----  \n",
      " 0   userId      100000 non-null  int64  \n",
      " 1   age         99984 non-null   float64\n",
      " 2   gender      99983 non-null   object \n",
      " 3   occupation  100000 non-null  object \n",
      " 4   movieId     100000 non-null  int64  \n",
      " 5   rating      99984 non-null   float64\n",
      " 6   genre       100000 non-null  object \n",
      " 7   timestamp   100000 non-null  int64  \n",
      "dtypes: float64(2), int64(3), object(3)\n",
      "memory usage: 6.1+ MB\n"
     ]
    }
   ],
   "source": [
    "# checking dataframe info\n",
    "raw_df.info()"
   ]
  },
  {
   "cell_type": "code",
   "execution_count": 5,
   "id": "4e42c4e4",
   "metadata": {},
   "outputs": [
    {
     "data": {
      "text/plain": [
       "userId         0\n",
       "age           16\n",
       "gender        17\n",
       "occupation     0\n",
       "movieId        0\n",
       "rating        16\n",
       "genre          0\n",
       "timestamp      0\n",
       "dtype: int64"
      ]
     },
     "execution_count": 5,
     "metadata": {},
     "output_type": "execute_result"
    }
   ],
   "source": [
    "# counting number of null values in each of the column\n",
    "raw_df.isnull().sum()"
   ]
  },
  {
   "cell_type": "code",
   "execution_count": 6,
   "id": "bedfef46",
   "metadata": {},
   "outputs": [],
   "source": [
    "#STEP 1 of Cleaning: Drop the Null values in dataframe \n",
    "clean_df_step1 = raw_df.dropna()"
   ]
  },
  {
   "cell_type": "code",
   "execution_count": 7,
   "id": "073ef4b1",
   "metadata": {},
   "outputs": [
    {
     "data": {
      "text/html": [
       "<div>\n",
       "<style scoped>\n",
       "    .dataframe tbody tr th:only-of-type {\n",
       "        vertical-align: middle;\n",
       "    }\n",
       "\n",
       "    .dataframe tbody tr th {\n",
       "        vertical-align: top;\n",
       "    }\n",
       "\n",
       "    .dataframe thead th {\n",
       "        text-align: right;\n",
       "    }\n",
       "</style>\n",
       "<table border=\"1\" class=\"dataframe\">\n",
       "  <thead>\n",
       "    <tr style=\"text-align: right;\">\n",
       "      <th></th>\n",
       "      <th>userId</th>\n",
       "      <th>age</th>\n",
       "      <th>gender</th>\n",
       "      <th>occupation</th>\n",
       "      <th>movieId</th>\n",
       "      <th>rating</th>\n",
       "      <th>genre</th>\n",
       "      <th>timestamp</th>\n",
       "    </tr>\n",
       "  </thead>\n",
       "  <tbody>\n",
       "    <tr>\n",
       "      <th>0</th>\n",
       "      <td>196</td>\n",
       "      <td>49.0</td>\n",
       "      <td>M</td>\n",
       "      <td>writer</td>\n",
       "      <td>242</td>\n",
       "      <td>3.0</td>\n",
       "      <td>Comedy</td>\n",
       "      <td>881250949</td>\n",
       "    </tr>\n",
       "    <tr>\n",
       "      <th>2</th>\n",
       "      <td>22</td>\n",
       "      <td>25.0</td>\n",
       "      <td>M</td>\n",
       "      <td>writer</td>\n",
       "      <td>377</td>\n",
       "      <td>1.0</td>\n",
       "      <td>Children</td>\n",
       "      <td>878887116</td>\n",
       "    </tr>\n",
       "    <tr>\n",
       "      <th>3</th>\n",
       "      <td>244</td>\n",
       "      <td>28.0</td>\n",
       "      <td>M</td>\n",
       "      <td>technician</td>\n",
       "      <td>51</td>\n",
       "      <td>2.0</td>\n",
       "      <td>Romance</td>\n",
       "      <td>880606923</td>\n",
       "    </tr>\n",
       "    <tr>\n",
       "      <th>5</th>\n",
       "      <td>298</td>\n",
       "      <td>44.0</td>\n",
       "      <td>M</td>\n",
       "      <td>executive</td>\n",
       "      <td>474</td>\n",
       "      <td>4.0</td>\n",
       "      <td>War</td>\n",
       "      <td>884182806</td>\n",
       "    </tr>\n",
       "    <tr>\n",
       "      <th>7</th>\n",
       "      <td>253</td>\n",
       "      <td>26.0</td>\n",
       "      <td>F</td>\n",
       "      <td>librarian</td>\n",
       "      <td>465</td>\n",
       "      <td>5.0</td>\n",
       "      <td>Adventure</td>\n",
       "      <td>891628467</td>\n",
       "    </tr>\n",
       "  </tbody>\n",
       "</table>\n",
       "</div>"
      ],
      "text/plain": [
       "   userId   age gender  occupation  movieId  rating      genre  timestamp\n",
       "0     196  49.0      M      writer      242     3.0     Comedy  881250949\n",
       "2      22  25.0      M      writer      377     1.0   Children  878887116\n",
       "3     244  28.0      M  technician       51     2.0    Romance  880606923\n",
       "5     298  44.0      M   executive      474     4.0        War  884182806\n",
       "7     253  26.0      F   librarian      465     5.0  Adventure  891628467"
      ]
     },
     "execution_count": 7,
     "metadata": {},
     "output_type": "execute_result"
    }
   ],
   "source": [
    "#STEP 2 of Cleaning: creating clean data set by dropping \"none\" values from the column \"occupation\"\n",
    "movielens = clean_df_step1.drop(clean_df_step1.index[(clean_df_step1['occupation'] == 'none')])\n",
    "movielens.head()"
   ]
  },
  {
   "cell_type": "code",
   "execution_count": 8,
   "id": "1f4f8e83",
   "metadata": {},
   "outputs": [
    {
     "data": {
      "text/plain": [
       "(99022, 8)"
      ]
     },
     "execution_count": 8,
     "metadata": {},
     "output_type": "execute_result"
    }
   ],
   "source": [
    "# checking the dataframe shape after the data is cleaned \n",
    "movielens.shape"
   ]
  },
  {
   "cell_type": "markdown",
   "id": "063e08bf",
   "metadata": {},
   "source": [
    "#### Q2. Descriptive statistics\n",
    "\n",
    "With the cleaned data in Q1, please provide the data summarization as below:\n",
    "\n",
    "* Q2.1 total number of unique users, unique occupations, unique movies, and unique genres\n",
    "* Q2.2 descriptive statistics, e.g., the total number, mean, std, min and max regarding all rating records\n",
    "* Q2.3 descriptive statistics, e.g., mean, std, max, and min of the number of movies rated by each user \n",
    "* Q2.4 descriptive statistics, e.g., mean, std, max, min of the number of ratings that received by each movie \n"
   ]
  },
  {
   "cell_type": "markdown",
   "id": "2b7bde9c",
   "metadata": {},
   "source": [
    "###### Q2.1 total number of unique users, unique occupations, unique movies, and unique genres"
   ]
  },
  {
   "cell_type": "code",
   "execution_count": 9,
   "id": "d7662c9a",
   "metadata": {},
   "outputs": [
    {
     "name": "stdout",
     "output_type": "stream",
     "text": [
      "No. of users:  934\n",
      "No. of occupations:  20\n",
      "No. of movies:  1682\n",
      "No. of genres:  19\n"
     ]
    }
   ],
   "source": [
    "users = movielens['userId'].unique().tolist()\n",
    "occupations = movielens['occupation'].unique().tolist()\n",
    "movies = movielens['movieId'].unique().tolist()\n",
    "genres = movielens['genre'].unique().tolist()\n",
    "print(\"No. of users: \", len(users))\n",
    "print(\"No. of occupations: \", len(occupations))\n",
    "print(\"No. of movies: \", len(movies))\n",
    "print(\"No. of genres: \", len(genres))"
   ]
  },
  {
   "cell_type": "markdown",
   "id": "7ebc97b2",
   "metadata": {},
   "source": [
    "##### Q2.2 descriptive statistics, e.g., the total number, mean, std, min and max regarding all rating records"
   ]
  },
  {
   "cell_type": "code",
   "execution_count": 10,
   "id": "2c7d2294",
   "metadata": {},
   "outputs": [
    {
     "data": {
      "text/plain": [
       "count    99022.000000\n",
       "mean         3.527792\n",
       "std          1.125743\n",
       "min          1.000000\n",
       "25%          3.000000\n",
       "50%          4.000000\n",
       "75%          4.000000\n",
       "max          5.000000\n",
       "Name: rating, dtype: float64"
      ]
     },
     "execution_count": 10,
     "metadata": {},
     "output_type": "execute_result"
    }
   ],
   "source": [
    "movielens['rating'].describe()"
   ]
  },
  {
   "cell_type": "markdown",
   "id": "4ea294b5",
   "metadata": {},
   "source": [
    "##### Q2.3 descriptive statistics, e.g., mean, std, max, and min of the number of movies rated by each user"
   ]
  },
  {
   "cell_type": "code",
   "execution_count": 11,
   "id": "af7d52ab",
   "metadata": {},
   "outputs": [
    {
     "data": {
      "text/html": [
       "<div>\n",
       "<style scoped>\n",
       "    .dataframe tbody tr th:only-of-type {\n",
       "        vertical-align: middle;\n",
       "    }\n",
       "\n",
       "    .dataframe tbody tr th {\n",
       "        vertical-align: top;\n",
       "    }\n",
       "\n",
       "    .dataframe thead th {\n",
       "        text-align: right;\n",
       "    }\n",
       "</style>\n",
       "<table border=\"1\" class=\"dataframe\">\n",
       "  <thead>\n",
       "    <tr style=\"text-align: right;\">\n",
       "      <th></th>\n",
       "      <th>userId</th>\n",
       "      <th>total movies rated</th>\n",
       "    </tr>\n",
       "  </thead>\n",
       "  <tbody>\n",
       "    <tr>\n",
       "      <th>0</th>\n",
       "      <td>1</td>\n",
       "      <td>272</td>\n",
       "    </tr>\n",
       "    <tr>\n",
       "      <th>1</th>\n",
       "      <td>2</td>\n",
       "      <td>62</td>\n",
       "    </tr>\n",
       "    <tr>\n",
       "      <th>2</th>\n",
       "      <td>3</td>\n",
       "      <td>54</td>\n",
       "    </tr>\n",
       "    <tr>\n",
       "      <th>3</th>\n",
       "      <td>4</td>\n",
       "      <td>24</td>\n",
       "    </tr>\n",
       "    <tr>\n",
       "      <th>4</th>\n",
       "      <td>5</td>\n",
       "      <td>170</td>\n",
       "    </tr>\n",
       "    <tr>\n",
       "      <th>...</th>\n",
       "      <td>...</td>\n",
       "      <td>...</td>\n",
       "    </tr>\n",
       "    <tr>\n",
       "      <th>929</th>\n",
       "      <td>939</td>\n",
       "      <td>49</td>\n",
       "    </tr>\n",
       "    <tr>\n",
       "      <th>930</th>\n",
       "      <td>940</td>\n",
       "      <td>107</td>\n",
       "    </tr>\n",
       "    <tr>\n",
       "      <th>931</th>\n",
       "      <td>941</td>\n",
       "      <td>22</td>\n",
       "    </tr>\n",
       "    <tr>\n",
       "      <th>932</th>\n",
       "      <td>942</td>\n",
       "      <td>79</td>\n",
       "    </tr>\n",
       "    <tr>\n",
       "      <th>933</th>\n",
       "      <td>943</td>\n",
       "      <td>168</td>\n",
       "    </tr>\n",
       "  </tbody>\n",
       "</table>\n",
       "<p>934 rows × 2 columns</p>\n",
       "</div>"
      ],
      "text/plain": [
       "     userId  total movies rated\n",
       "0         1                 272\n",
       "1         2                  62\n",
       "2         3                  54\n",
       "3         4                  24\n",
       "4         5                 170\n",
       "..      ...                 ...\n",
       "929     939                  49\n",
       "930     940                 107\n",
       "931     941                  22\n",
       "932     942                  79\n",
       "933     943                 168\n",
       "\n",
       "[934 rows x 2 columns]"
      ]
     },
     "execution_count": 11,
     "metadata": {},
     "output_type": "execute_result"
    }
   ],
   "source": [
    "#count the total number of movies that each of the users rated\n",
    "user_group = movielens.groupby(['userId'])['movieId'].count().reset_index(name=\"total movies rated\")\n",
    "user_group"
   ]
  },
  {
   "cell_type": "code",
   "execution_count": 12,
   "id": "2ff2c670",
   "metadata": {},
   "outputs": [
    {
     "data": {
      "text/plain": [
       "count    934.000000\n",
       "mean     106.019272\n",
       "std      100.793963\n",
       "min       19.000000\n",
       "25%       33.000000\n",
       "50%       65.000000\n",
       "75%      148.000000\n",
       "max      736.000000\n",
       "Name: total movies rated, dtype: float64"
      ]
     },
     "execution_count": 12,
     "metadata": {},
     "output_type": "execute_result"
    }
   ],
   "source": [
    "user_group['total movies rated'].describe()"
   ]
  },
  {
   "cell_type": "markdown",
   "id": "5961b70a",
   "metadata": {},
   "source": [
    "##### Q2.4 descriptive statistics, e.g., mean, std, max, min of the number of ratings that received by each movie"
   ]
  },
  {
   "cell_type": "code",
   "execution_count": 13,
   "id": "c7cf3b9a",
   "metadata": {},
   "outputs": [
    {
     "data": {
      "text/html": [
       "<div>\n",
       "<style scoped>\n",
       "    .dataframe tbody tr th:only-of-type {\n",
       "        vertical-align: middle;\n",
       "    }\n",
       "\n",
       "    .dataframe tbody tr th {\n",
       "        vertical-align: top;\n",
       "    }\n",
       "\n",
       "    .dataframe thead th {\n",
       "        text-align: right;\n",
       "    }\n",
       "</style>\n",
       "<table border=\"1\" class=\"dataframe\">\n",
       "  <thead>\n",
       "    <tr style=\"text-align: right;\">\n",
       "      <th></th>\n",
       "      <th>movieId</th>\n",
       "      <th>total ratings achived</th>\n",
       "    </tr>\n",
       "  </thead>\n",
       "  <tbody>\n",
       "    <tr>\n",
       "      <th>0</th>\n",
       "      <td>1</td>\n",
       "      <td>445</td>\n",
       "    </tr>\n",
       "    <tr>\n",
       "      <th>1</th>\n",
       "      <td>2</td>\n",
       "      <td>129</td>\n",
       "    </tr>\n",
       "    <tr>\n",
       "      <th>2</th>\n",
       "      <td>3</td>\n",
       "      <td>88</td>\n",
       "    </tr>\n",
       "    <tr>\n",
       "      <th>3</th>\n",
       "      <td>4</td>\n",
       "      <td>206</td>\n",
       "    </tr>\n",
       "    <tr>\n",
       "      <th>4</th>\n",
       "      <td>5</td>\n",
       "      <td>84</td>\n",
       "    </tr>\n",
       "    <tr>\n",
       "      <th>...</th>\n",
       "      <td>...</td>\n",
       "      <td>...</td>\n",
       "    </tr>\n",
       "    <tr>\n",
       "      <th>1677</th>\n",
       "      <td>1678</td>\n",
       "      <td>1</td>\n",
       "    </tr>\n",
       "    <tr>\n",
       "      <th>1678</th>\n",
       "      <td>1679</td>\n",
       "      <td>1</td>\n",
       "    </tr>\n",
       "    <tr>\n",
       "      <th>1679</th>\n",
       "      <td>1680</td>\n",
       "      <td>1</td>\n",
       "    </tr>\n",
       "    <tr>\n",
       "      <th>1680</th>\n",
       "      <td>1681</td>\n",
       "      <td>1</td>\n",
       "    </tr>\n",
       "    <tr>\n",
       "      <th>1681</th>\n",
       "      <td>1682</td>\n",
       "      <td>1</td>\n",
       "    </tr>\n",
       "  </tbody>\n",
       "</table>\n",
       "<p>1682 rows × 2 columns</p>\n",
       "</div>"
      ],
      "text/plain": [
       "      movieId  total ratings achived\n",
       "0           1                    445\n",
       "1           2                    129\n",
       "2           3                     88\n",
       "3           4                    206\n",
       "4           5                     84\n",
       "...       ...                    ...\n",
       "1677     1678                      1\n",
       "1678     1679                      1\n",
       "1679     1680                      1\n",
       "1680     1681                      1\n",
       "1681     1682                      1\n",
       "\n",
       "[1682 rows x 2 columns]"
      ]
     },
     "execution_count": 13,
     "metadata": {},
     "output_type": "execute_result"
    }
   ],
   "source": [
    "#count the number of each time a movie is rated \n",
    "movie_group = movielens.groupby(['movieId'])['rating'].count().reset_index(name=\"total ratings achived\")\n",
    "movie_group"
   ]
  },
  {
   "cell_type": "code",
   "execution_count": 14,
   "id": "4e74ee02",
   "metadata": {},
   "outputs": [
    {
     "data": {
      "text/plain": [
       "count    1682.000000\n",
       "mean       58.871581\n",
       "std        79.629796\n",
       "min         1.000000\n",
       "25%         6.000000\n",
       "50%        26.000000\n",
       "75%        79.000000\n",
       "max       578.000000\n",
       "Name: total ratings achived, dtype: float64"
      ]
     },
     "execution_count": 14,
     "metadata": {},
     "output_type": "execute_result"
    }
   ],
   "source": [
    "movie_group['total ratings achived'].describe()"
   ]
  },
  {
   "cell_type": "markdown",
   "id": "7b070d5d",
   "metadata": {},
   "source": [
    "#### Q3. Plotting and Analysis\n",
    "\n",
    "Please try to explore the correlation between gender/occupation/genre and ratings; for instance, do female/male users tend to provide higher ratings than male/female users? Hint: you may use the boxplot function to plot figures for comparison (___Challenge___)\n",
    "    \n",
    "You may need to select the most suitable graphic forms for ease of presentation. Most importantly, for each figure or subfigure, please summarise ___what each plot shows___ (i.e. observations and explanations). Finally, you may need to provide an overall summary of the data."
   ]
  },
  {
   "cell_type": "markdown",
   "id": "ee528e20",
   "metadata": {},
   "source": [
    "##### Exploration 1: What are the top most-watched genres? Do male users tend to watch movies more than female users?"
   ]
  },
  {
   "cell_type": "code",
   "execution_count": 15,
   "id": "902ad5f5",
   "metadata": {},
   "outputs": [
    {
     "name": "stdout",
     "output_type": "stream",
     "text": [
      "Types of genre:  19\n"
     ]
    },
    {
     "data": {
      "text/plain": [
       "[Text(0.5, 1.0, 'Number of rating per genre')]"
      ]
     },
     "execution_count": 15,
     "metadata": {},
     "output_type": "execute_result"
    },
    {
     "data": {
      "image/png": "[encoded data removed]",
      "text/plain": [
       "<Figure size 1080x792 with 1 Axes>"
      ]
     },
     "metadata": {},
     "output_type": "display_data"
    }
   ],
   "source": [
    "genres = movielens['genre']\n",
    "print(\"Types of genre: \", len(set(genres)))\n",
    "\n",
    "plt.figure(figsize=(15,11))\n",
    "chart = sns.countplot(y='genre', data=movielens, palette = 'twilight', order = movielens.genre.value_counts().index)\n",
    "chart.set_yticklabels(chart.get_yticklabels(), rotation=45)\n",
    "chart.set(title = 'Number of rating per genre')"
   ]
  },
  {
   "cell_type": "markdown",
   "id": "a1c2d8cc",
   "metadata": {},
   "source": [
    "Comment: This graph shows the number of ratings per genre. It is clear that Drama and Comedy dominate the film industry. "
   ]
  },
  {
   "cell_type": "code",
   "execution_count": 16,
   "id": "5f11bdf0",
   "metadata": {},
   "outputs": [
    {
     "data": {
      "text/plain": [
       "[Text(0.5, 1.0, 'Gender distribution per genre')]"
      ]
     },
     "execution_count": 16,
     "metadata": {},
     "output_type": "execute_result"
    },
    {
     "data": {
      "image/png": "[encoded data removed]",
      "text/plain": [
       "<Figure size 1080x792 with 1 Axes>"
      ]
     },
     "metadata": {},
     "output_type": "display_data"
    }
   ],
   "source": [
    "plt.figure(figsize=(15,11))\n",
    "sns.countplot(x='genre', data = movielens, hue='gender', hue_order=['M','F'], palette = 'deep').set(title = 'Gender distribution per genre')"
   ]
  },
  {
   "cell_type": "markdown",
   "id": "c85a7db0",
   "metadata": {},
   "source": [
    "Comment: For each of the genres, we observe that the number of male users is most likely double the number of female users. "
   ]
  },
  {
   "cell_type": "markdown",
   "id": "c78d7266",
   "metadata": {},
   "source": [
    "##### Exploration 2: Which occupations give the most rating?"
   ]
  },
  {
   "cell_type": "code",
   "execution_count": 17,
   "id": "da0ae69c",
   "metadata": {},
   "outputs": [
    {
     "name": "stdout",
     "output_type": "stream",
     "text": [
      "Types of occupation:  20\n"
     ]
    },
    {
     "data": {
      "text/plain": [
       "[Text(0, 0, 'student'),\n",
       " Text(0, 1, 'other'),\n",
       " Text(0, 2, 'educator'),\n",
       " Text(0, 3, 'engineer'),\n",
       " Text(0, 4, 'programmer'),\n",
       " Text(0, 5, 'administrator'),\n",
       " Text(0, 6, 'writer'),\n",
       " Text(0, 7, 'librarian'),\n",
       " Text(0, 8, 'technician'),\n",
       " Text(0, 9, 'executive'),\n",
       " Text(0, 10, 'healthcare'),\n",
       " Text(0, 11, 'artist'),\n",
       " Text(0, 12, 'entertainment'),\n",
       " Text(0, 13, 'scientist'),\n",
       " Text(0, 14, 'marketing'),\n",
       " Text(0, 15, 'retired'),\n",
       " Text(0, 16, 'lawyer'),\n",
       " Text(0, 17, 'salesman'),\n",
       " Text(0, 18, 'doctor'),\n",
       " Text(0, 19, 'homemaker')]"
      ]
     },
     "execution_count": 17,
     "metadata": {},
     "output_type": "execute_result"
    },
    {
     "data": {
      "image/png": "[encoded data removed]",
      "text/plain": [
       "<Figure size 720x576 with 1 Axes>"
      ]
     },
     "metadata": {},
     "output_type": "display_data"
    }
   ],
   "source": [
    "occupations = movielens['occupation']\n",
    "print(\"Types of occupation: \", len(set(occupations)))\n",
    "\n",
    "plt.figure(figsize=(10,8))\n",
    "chart = sns.countplot(y='occupation', data=movielens, palette = 'Paired',order = movielens.occupation.value_counts().index)\n",
    "chart.set_yticklabels(chart.get_yticklabels(), rotation=45)"
   ]
  },
  {
   "cell_type": "markdown",
   "id": "3cba760e",
   "metadata": {},
   "source": [
    "Students tend to provide the most rating since this group of occupation has the a rich source of time, therefore this explains why they dominate the viewers' occupations. "
   ]
  },
  {
   "cell_type": "markdown",
   "id": "02685fb1",
   "metadata": {},
   "source": [
    "##### Exploration 3: Which age groups provide ratings the most?"
   ]
  },
  {
   "cell_type": "code",
   "execution_count": 18,
   "id": "64d25a36",
   "metadata": {},
   "outputs": [
    {
     "data": {
      "text/plain": [
       "count    99022.000000\n",
       "mean        33.042607\n",
       "std         11.560676\n",
       "min          7.000000\n",
       "25%         24.000000\n",
       "50%         30.000000\n",
       "75%         40.000000\n",
       "max         73.000000\n",
       "Name: age, dtype: float64"
      ]
     },
     "execution_count": 18,
     "metadata": {},
     "output_type": "execute_result"
    }
   ],
   "source": [
    "movielens.age.describe()"
   ]
  },
  {
   "cell_type": "code",
   "execution_count": 19,
   "id": "34385710",
   "metadata": {},
   "outputs": [
    {
     "data": {
      "text/plain": [
       "<AxesSubplot:xlabel='age'>"
      ]
     },
     "execution_count": 19,
     "metadata": {},
     "output_type": "execute_result"
    },
    {
     "data": {
      "image/png": "[encoded data removed]",
      "text/plain": [
       "<Figure size 720x360 with 1 Axes>"
      ]
     },
     "metadata": {},
     "output_type": "display_data"
    }
   ],
   "source": [
    "sns.set(style=\"whitegrid\")\n",
    "plt.figure(figsize=(10,5))\n",
    "sns.boxplot(x='age', data=movielens, orient=\"h\", width = 0.2, color = 'g')"
   ]
  },
  {
   "cell_type": "markdown",
   "id": "d20ed371",
   "metadata": {},
   "source": [
    "Comment: The boxplot shows the distribution of the users' age. The boxplot is most likely right-skewed, which indicates the users are relatively young with the median age for both of the groups is 30. However, we also observe that the boxplot appears to have some outliers which can affect our observation."
   ]
  },
  {
   "cell_type": "code",
   "execution_count": 20,
   "id": "5191dc00",
   "metadata": {},
   "outputs": [
    {
     "data": {
      "text/plain": [
       "[Text(0.5, 1.0, 'Age - Gender boxplot')]"
      ]
     },
     "execution_count": 20,
     "metadata": {},
     "output_type": "execute_result"
    },
    {
     "data": {
      "image/png": "[encoded data removed]",
      "text/plain": [
       "<Figure size 720x360 with 1 Axes>"
      ]
     },
     "metadata": {},
     "output_type": "display_data"
    }
   ],
   "source": [
    "plt.figure(figsize=(10,5))\n",
    "\n",
    "sns.boxplot(y=movielens.gender, x=movielens.age, width = 0.3, linewidth = 2.5).set(title ='Age - Gender boxplot')"
   ]
  },
  {
   "cell_type": "markdown",
   "id": "9486497b",
   "metadata": {},
   "source": [
    "Comment: When compare the age of male and female users, we notice there is no big difference between the two groups. However, the age range of the male users seem to be larger than females'. "
   ]
  },
  {
   "cell_type": "markdown",
   "id": "1d8d121f",
   "metadata": {},
   "source": [
    "#### Q4. Detect and remove outliers\n",
    "\n",
    "We may define outlier users and movies with three rules:\n",
    "\n",
    "* users whose age is no more than 10\n",
    "* users who rate less than 20 movies\n",
    "* movies that receives less than 10 ratings (i.e., movies that are rated by less than 10 users)\n",
    " \n",
    "Please remove the corresponding records in the csv file that involves outlier users and movies. After that, __print the length of the data__."
   ]
  },
  {
   "cell_type": "code",
   "execution_count": 21,
   "id": "a674635c",
   "metadata": {},
   "outputs": [
    {
     "data": {
      "text/plain": [
       "74"
      ]
     },
     "execution_count": 21,
     "metadata": {},
     "output_type": "execute_result"
    }
   ],
   "source": [
    "# detect users whose age is no more than 10\n",
    "age_outliers = movielens['age'] <= 10\n",
    "len(movielens[age_outliers])"
   ]
  },
  {
   "cell_type": "code",
   "execution_count": 22,
   "id": "14d4a605",
   "metadata": {},
   "outputs": [
    {
     "data": {
      "text/plain": [
       "98948"
      ]
     },
     "execution_count": 22,
     "metadata": {},
     "output_type": "execute_result"
    }
   ],
   "source": [
    "# drop users whose age is no more than 10\n",
    "movielens1 = movielens.drop(movielens.index[(age_outliers)])\n",
    "len(movielens1)"
   ]
  },
  {
   "cell_type": "code",
   "execution_count": 23,
   "id": "0c948d34",
   "metadata": {},
   "outputs": [
    {
     "name": "stdout",
     "output_type": "stream",
     "text": [
      "1\n"
     ]
    },
    {
     "data": {
      "text/html": [
       "<div>\n",
       "<style scoped>\n",
       "    .dataframe tbody tr th:only-of-type {\n",
       "        vertical-align: middle;\n",
       "    }\n",
       "\n",
       "    .dataframe tbody tr th {\n",
       "        vertical-align: top;\n",
       "    }\n",
       "\n",
       "    .dataframe thead th {\n",
       "        text-align: right;\n",
       "    }\n",
       "</style>\n",
       "<table border=\"1\" class=\"dataframe\">\n",
       "  <thead>\n",
       "    <tr style=\"text-align: right;\">\n",
       "      <th></th>\n",
       "      <th>userId</th>\n",
       "      <th>total movies rated</th>\n",
       "    </tr>\n",
       "  </thead>\n",
       "  <tbody>\n",
       "    <tr>\n",
       "      <th>162</th>\n",
       "      <td>166</td>\n",
       "      <td>19</td>\n",
       "    </tr>\n",
       "  </tbody>\n",
       "</table>\n",
       "</div>"
      ],
      "text/plain": [
       "     userId  total movies rated\n",
       "162     166                  19"
      ]
     },
     "execution_count": 23,
     "metadata": {},
     "output_type": "execute_result"
    }
   ],
   "source": [
    "# detect users who rate less than 20 movies\n",
    "user_outliers = user_group['total movies rated'] < 20\n",
    "\n",
    "print(len(user_group[user_outliers].userId))\n",
    "user_group[user_outliers]"
   ]
  },
  {
   "cell_type": "code",
   "execution_count": 24,
   "id": "ff4989b4",
   "metadata": {},
   "outputs": [],
   "source": [
    "# drop rows that have users who rate less than 20 movies\n",
    "movielens2 = movielens1.drop(movielens1.index[(movielens1['userId'].isin(user_group[user_outliers].userId))])"
   ]
  },
  {
   "cell_type": "code",
   "execution_count": 25,
   "id": "3449011c",
   "metadata": {},
   "outputs": [
    {
     "data": {
      "text/plain": [
       "98929"
      ]
     },
     "execution_count": 25,
     "metadata": {},
     "output_type": "execute_result"
    }
   ],
   "source": [
    "len(movielens2)"
   ]
  },
  {
   "cell_type": "code",
   "execution_count": 26,
   "id": "345e2601",
   "metadata": {},
   "outputs": [
    {
     "data": {
      "text/plain": [
       "535"
      ]
     },
     "execution_count": 26,
     "metadata": {},
     "output_type": "execute_result"
    }
   ],
   "source": [
    "# detect movies that receive less than 10 ratings\n",
    "movie_outliers = movie_group['total ratings achived'] < 10\n",
    "len(movie_group[movie_outliers].movieId)"
   ]
  },
  {
   "cell_type": "code",
   "execution_count": 27,
   "id": "14224309",
   "metadata": {},
   "outputs": [],
   "source": [
    "# drop movies that receive less than 10 ratings\n",
    "movielens_final = movielens1.drop(movielens1.index[(movielens1['movieId'].isin(movie_group[movie_outliers].movieId))])"
   ]
  },
  {
   "cell_type": "code",
   "execution_count": 28,
   "id": "4f17bf01",
   "metadata": {},
   "outputs": [
    {
     "data": {
      "text/plain": [
       "96873"
      ]
     },
     "execution_count": 28,
     "metadata": {},
     "output_type": "execute_result"
    }
   ],
   "source": [
    "len(movielens_final)"
   ]
  },
  {
   "cell_type": "code",
   "execution_count": 30,
   "id": "83e1f8d2",
   "metadata": {},
   "outputs": [],
   "source": [
    "movielens_final.to_csv('movielens_data_clean.csv', index = False) #save the dataframe"
   ]
  }
 ],
 "metadata": {
  "kernelspec": {
   "display_name": "Python 3 (ipykernel)",
   "language": "python",
   "name": "python3"
  },
  "language_info": {
   "codemirror_mode": {
    "name": "ipython",
    "version": 3
   },
   "file_extension": ".py",
   "mimetype": "text/x-python",
   "name": "python",
   "nbconvert_exporter": "python",
   "pygments_lexer": "ipython3",
   "version": "3.9.7"
  }
 },
 "nbformat": 4,
 "nbformat_minor": 5
}
