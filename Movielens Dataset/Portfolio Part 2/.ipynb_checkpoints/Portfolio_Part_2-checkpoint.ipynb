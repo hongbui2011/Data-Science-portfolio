{
 "cells": [
  {
   "cell_type": "markdown",
   "id": "74bd35d7",
   "metadata": {},
   "source": [
    "## Portfolio Part 2"
   ]
  },
  {
   "cell_type": "markdown",
   "id": "b154a46c",
   "metadata": {},
   "source": [
    "The goal of the second Portfolio task is to train linear regression models to predict users' ratings towards movies. This involves a standard Data Science workflow: exploring data, building models, making predictions, and evaluating results. In this task, we will explore the impacts of feature selections and different sizes of training/testing data on the model performance. We will continue using the movielens dataset provided in Portfolio task 1. "
   ]
  },
  {
   "cell_type": "markdown",
   "id": "2566945d",
   "metadata": {},
   "source": [
    "### Import Cleaned MovieLens Dataset\n",
    "Save the cleaned data (i.e., after removing missing values and outliers) in the Portfolio task 1 as a csv file named 'movielens_data_clean.csv'. You may need to use the Pandas method, i.e., `to_csv`, for doing this. After that, please import the csv file (i.e., 'movielens_data_clean') and print out its total length."
   ]
  },
  {
   "cell_type": "code",
   "execution_count": 1,
   "id": "77e7deaa",
   "metadata": {},
   "outputs": [],
   "source": [
    "#import libraries\n",
    "import pandas as pd\n",
    "import numpy as np\n",
    "import seaborn as sns\n",
    "import matplotlib.pylab as plt\n",
    "%matplotlib inline"
   ]
  },
  {
   "cell_type": "code",
   "execution_count": 2,
   "id": "5cc74551",
   "metadata": {},
   "outputs": [],
   "source": [
    "from sklearn.model_selection import train_test_split\n",
    "from sklearn import linear_model\n",
    "from sklearn.linear_model import LinearRegression\n",
    "from sklearn.metrics import r2_score, mean_squared_error"
   ]
  },
  {
   "cell_type": "code",
   "execution_count": 3,
   "id": "5690974a",
   "metadata": {},
   "outputs": [],
   "source": [
    "#import cleaned data set\n",
    "movielens = pd.read_csv('files/movielens_data_clean.csv')"
   ]
  },
  {
   "cell_type": "markdown",
   "id": "2a656b42",
   "metadata": {},
   "source": [
    "### Explore the Dataset\n",
    "\n",
    "* Use the methods, i.e., `head()` and `info()`, to have a rough picture about the data, e.g., how many columns, and the data types of each column. \n",
    "* As our goal is to predict ratings given other columns, please get the correlations between age/gender/genre/occupation and rating by using the `corr()` method.\n",
    "* To get the correlations between different features, you may need to first convert the categorical features (i.e., gender, genre and occupation) into numerial values. For doing this, you may need to import `OrdinalEncoder` from `sklearn.preprocessing` (refer to the useful exmaples [here](https://pbpython.com/categorical-encoding.html))\n",
    "* Please provide ___necessary explanations/analysis___ on the correlations, and figure out which are the ___most___ and ___least___ corrleated features regarding rating. Try to ___discuss___ how the correlation will affect the final prediction results, if we use these features to train a regression model for rating prediction. In what follows, we will conduct experiments to verify your hypothesis."
   ]
  },
  {
   "cell_type": "code",
   "execution_count": 4,
   "id": "b722522d",
   "metadata": {},
   "outputs": [
    {
     "data": {
      "text/html": [
       "<div>\n",
       "<style scoped>\n",
       "    .dataframe tbody tr th:only-of-type {\n",
       "        vertical-align: middle;\n",
       "    }\n",
       "\n",
       "    .dataframe tbody tr th {\n",
       "        vertical-align: top;\n",
       "    }\n",
       "\n",
       "    .dataframe thead th {\n",
       "        text-align: right;\n",
       "    }\n",
       "</style>\n",
       "<table border=\"1\" class=\"dataframe\">\n",
       "  <thead>\n",
       "    <tr style=\"text-align: right;\">\n",
       "      <th></th>\n",
       "      <th>userId</th>\n",
       "      <th>age</th>\n",
       "      <th>gender</th>\n",
       "      <th>occupation</th>\n",
       "      <th>movieId</th>\n",
       "      <th>rating</th>\n",
       "      <th>genre</th>\n",
       "      <th>timestamp</th>\n",
       "    </tr>\n",
       "  </thead>\n",
       "  <tbody>\n",
       "    <tr>\n",
       "      <th>0</th>\n",
       "      <td>196</td>\n",
       "      <td>49.0</td>\n",
       "      <td>M</td>\n",
       "      <td>writer</td>\n",
       "      <td>242</td>\n",
       "      <td>3.0</td>\n",
       "      <td>Comedy</td>\n",
       "      <td>881250949</td>\n",
       "    </tr>\n",
       "    <tr>\n",
       "      <th>1</th>\n",
       "      <td>22</td>\n",
       "      <td>25.0</td>\n",
       "      <td>M</td>\n",
       "      <td>writer</td>\n",
       "      <td>377</td>\n",
       "      <td>1.0</td>\n",
       "      <td>Children</td>\n",
       "      <td>878887116</td>\n",
       "    </tr>\n",
       "    <tr>\n",
       "      <th>2</th>\n",
       "      <td>244</td>\n",
       "      <td>28.0</td>\n",
       "      <td>M</td>\n",
       "      <td>technician</td>\n",
       "      <td>51</td>\n",
       "      <td>2.0</td>\n",
       "      <td>Romance</td>\n",
       "      <td>880606923</td>\n",
       "    </tr>\n",
       "    <tr>\n",
       "      <th>3</th>\n",
       "      <td>298</td>\n",
       "      <td>44.0</td>\n",
       "      <td>M</td>\n",
       "      <td>executive</td>\n",
       "      <td>474</td>\n",
       "      <td>4.0</td>\n",
       "      <td>War</td>\n",
       "      <td>884182806</td>\n",
       "    </tr>\n",
       "    <tr>\n",
       "      <th>4</th>\n",
       "      <td>253</td>\n",
       "      <td>26.0</td>\n",
       "      <td>F</td>\n",
       "      <td>librarian</td>\n",
       "      <td>465</td>\n",
       "      <td>5.0</td>\n",
       "      <td>Adventure</td>\n",
       "      <td>891628467</td>\n",
       "    </tr>\n",
       "  </tbody>\n",
       "</table>\n",
       "</div>"
      ],
      "text/plain": [
       "   userId   age gender  occupation  movieId  rating      genre  timestamp\n",
       "0     196  49.0      M      writer      242     3.0     Comedy  881250949\n",
       "1      22  25.0      M      writer      377     1.0   Children  878887116\n",
       "2     244  28.0      M  technician       51     2.0    Romance  880606923\n",
       "3     298  44.0      M   executive      474     4.0        War  884182806\n",
       "4     253  26.0      F   librarian      465     5.0  Adventure  891628467"
      ]
     },
     "execution_count": 4,
     "metadata": {},
     "output_type": "execute_result"
    }
   ],
   "source": [
    "movielens.head()"
   ]
  },
  {
   "cell_type": "code",
   "execution_count": 5,
   "id": "9b2c3af0",
   "metadata": {},
   "outputs": [
    {
     "name": "stdout",
     "output_type": "stream",
     "text": [
      "<class 'pandas.core.frame.DataFrame'>\n",
      "RangeIndex: 96854 entries, 0 to 96853\n",
      "Data columns (total 8 columns):\n",
      " #   Column      Non-Null Count  Dtype  \n",
      "---  ------      --------------  -----  \n",
      " 0   userId      96854 non-null  int64  \n",
      " 1   age         96854 non-null  float64\n",
      " 2   gender      96854 non-null  object \n",
      " 3   occupation  96854 non-null  object \n",
      " 4   movieId     96854 non-null  int64  \n",
      " 5   rating      96854 non-null  float64\n",
      " 6   genre       96854 non-null  object \n",
      " 7   timestamp   96854 non-null  int64  \n",
      "dtypes: float64(2), int64(3), object(3)\n",
      "memory usage: 5.9+ MB\n"
     ]
    }
   ],
   "source": [
    "movielens.info()"
   ]
  },
  {
   "cell_type": "code",
   "execution_count": 6,
   "id": "fcf587f0",
   "metadata": {},
   "outputs": [],
   "source": [
    "# convert categorical variables to numerical variables\n",
    "movielens['gender'] =movielens['gender'].astype('category').cat.codes\n",
    "movielens['occupation'] =movielens['occupation'].astype('category').cat.codes\n",
    "movielens['genre'] =movielens['genre'].astype('category').cat.codes"
   ]
  },
  {
   "cell_type": "code",
   "execution_count": 7,
   "id": "4acfbf2b",
   "metadata": {},
   "outputs": [
    {
     "name": "stdout",
     "output_type": "stream",
     "text": [
      "<class 'pandas.core.frame.DataFrame'>\n",
      "RangeIndex: 96854 entries, 0 to 96853\n",
      "Data columns (total 8 columns):\n",
      " #   Column      Non-Null Count  Dtype  \n",
      "---  ------      --------------  -----  \n",
      " 0   userId      96854 non-null  int64  \n",
      " 1   age         96854 non-null  float64\n",
      " 2   gender      96854 non-null  int8   \n",
      " 3   occupation  96854 non-null  int8   \n",
      " 4   movieId     96854 non-null  int64  \n",
      " 5   rating      96854 non-null  float64\n",
      " 6   genre       96854 non-null  int8   \n",
      " 7   timestamp   96854 non-null  int64  \n",
      "dtypes: float64(2), int64(3), int8(3)\n",
      "memory usage: 4.0 MB\n"
     ]
    }
   ],
   "source": [
    "#checking datatype after converting categorical variables to numerical variables\n",
    "movielens.info()"
   ]
  },
  {
   "cell_type": "code",
   "execution_count": 8,
   "id": "780b1bc1",
   "metadata": {},
   "outputs": [
    {
     "data": {
      "text/html": [
       "<div>\n",
       "<style scoped>\n",
       "    .dataframe tbody tr th:only-of-type {\n",
       "        vertical-align: middle;\n",
       "    }\n",
       "\n",
       "    .dataframe tbody tr th {\n",
       "        vertical-align: top;\n",
       "    }\n",
       "\n",
       "    .dataframe thead th {\n",
       "        text-align: right;\n",
       "    }\n",
       "</style>\n",
       "<table border=\"1\" class=\"dataframe\">\n",
       "  <thead>\n",
       "    <tr style=\"text-align: right;\">\n",
       "      <th></th>\n",
       "      <th>rating</th>\n",
       "      <th>age</th>\n",
       "      <th>gender</th>\n",
       "      <th>genre</th>\n",
       "      <th>occupation</th>\n",
       "    </tr>\n",
       "  </thead>\n",
       "  <tbody>\n",
       "    <tr>\n",
       "      <th>rating</th>\n",
       "      <td>1.000000</td>\n",
       "      <td>0.051724</td>\n",
       "      <td>-0.007239</td>\n",
       "      <td>0.045250</td>\n",
       "      <td>-0.033717</td>\n",
       "    </tr>\n",
       "    <tr>\n",
       "      <th>age</th>\n",
       "      <td>0.051724</td>\n",
       "      <td>1.000000</td>\n",
       "      <td>0.037126</td>\n",
       "      <td>0.027286</td>\n",
       "      <td>-0.370879</td>\n",
       "    </tr>\n",
       "    <tr>\n",
       "      <th>gender</th>\n",
       "      <td>-0.007239</td>\n",
       "      <td>0.037126</td>\n",
       "      <td>1.000000</td>\n",
       "      <td>-0.000509</td>\n",
       "      <td>0.012117</td>\n",
       "    </tr>\n",
       "    <tr>\n",
       "      <th>genre</th>\n",
       "      <td>0.045250</td>\n",
       "      <td>0.027286</td>\n",
       "      <td>-0.000509</td>\n",
       "      <td>1.000000</td>\n",
       "      <td>-0.011443</td>\n",
       "    </tr>\n",
       "    <tr>\n",
       "      <th>occupation</th>\n",
       "      <td>-0.033717</td>\n",
       "      <td>-0.370879</td>\n",
       "      <td>0.012117</td>\n",
       "      <td>-0.011443</td>\n",
       "      <td>1.000000</td>\n",
       "    </tr>\n",
       "  </tbody>\n",
       "</table>\n",
       "</div>"
      ],
      "text/plain": [
       "              rating       age    gender     genre  occupation\n",
       "rating      1.000000  0.051724 -0.007239  0.045250   -0.033717\n",
       "age         0.051724  1.000000  0.037126  0.027286   -0.370879\n",
       "gender     -0.007239  0.037126  1.000000 -0.000509    0.012117\n",
       "genre       0.045250  0.027286 -0.000509  1.000000   -0.011443\n",
       "occupation -0.033717 -0.370879  0.012117 -0.011443    1.000000"
      ]
     },
     "execution_count": 8,
     "metadata": {},
     "output_type": "execute_result"
    }
   ],
   "source": [
    "# correlations between age/gender/genre/occupation and rating\n",
    "movielens[['rating', 'age', 'gender', 'genre', 'occupation']].corr()"
   ]
  },
  {
   "cell_type": "code",
   "execution_count": 9,
   "id": "173033da",
   "metadata": {},
   "outputs": [
    {
     "data": {
      "image/png": "[encoded data removed]",
      "text/plain": [
       "<Figure size 720x576 with 2 Axes>"
      ]
     },
     "metadata": {
      "needs_background": "light"
     },
     "output_type": "display_data"
    }
   ],
   "source": [
    "# plotting correlation heatmap\n",
    "plt.figure(figsize=(10,8))\n",
    "dataplot = sns.heatmap(movielens[['rating', 'age', 'gender', 'genre', 'occupation']].corr(), cmap=\"RdGy\", annot=True)\n",
    "  \n",
    "# displaying heatmap\n",
    "plt.show()"
   ]
  },
  {
   "cell_type": "markdown",
   "id": "c82bc6fd",
   "metadata": {},
   "source": [
    "#### Comment: \n",
    "* From the correlation matrix, we conclude that \"age\" and \"genre\" are the most two correlated features regarding \"rating\", whilst \"gender\" and \"occupation\" are the least two correlated features regarding \"rating\"\n",
    "\n",
    "* Though \"age\" and \"genre\" are considered to be most correlated with 'rating', these two features' correlation with 'rating' is considerably not high in fact (only 0.052 and 0.045). However since these two features are the most correlated with \"rating\", therefore this duo is expected to be the most useful input features that will give smaller errors for our prediction.\n",
    "\n",
    "* \"gender\" and \"occupation\" are expected not to have much impact on the prediction since this duo is the least correlated with \"rating\"."
   ]
  },
  {
   "cell_type": "markdown",
   "id": "7606c849",
   "metadata": {},
   "source": [
    "### Split Training and Testing Data\n",
    "* Machine learning models are trained to help make predictions for the future. Normally, we need to randomly split the dataset into training and testing sets, where we use the training set to train the model, and then leverage the well-trained model to make predictions on the testing set. \n",
    "* To further investigate whether the size of the training/testing data affects the model performance, please random split the data into training and testing sets with different sizes:\n",
    "    * Case 1: training data containing 10% of the entire data;\n",
    "    * Case 2: training data containing 90% of the entire data. \n",
    "* Print the shape of training and testing sets in the two cases. "
   ]
  },
  {
   "cell_type": "code",
   "execution_count": 10,
   "id": "f8eeeec6",
   "metadata": {},
   "outputs": [
    {
     "name": "stdout",
     "output_type": "stream",
     "text": [
      "(9685, 8)\n",
      "(87169, 8)\n"
     ]
    }
   ],
   "source": [
    "# Case 1: training data size = 10%, test data size = 90%\n",
    "train_1, test_1 = train_test_split(movielens, test_size=0.9, random_state=142)\n",
    "print(train_1.shape)\n",
    "print(test_1.shape)"
   ]
  },
  {
   "cell_type": "code",
   "execution_count": 11,
   "id": "7c0b2704",
   "metadata": {},
   "outputs": [
    {
     "name": "stdout",
     "output_type": "stream",
     "text": [
      "(87168, 8)\n",
      "(9686, 8)\n"
     ]
    }
   ],
   "source": [
    "# Case 2: training data size = 90%, test data size = 10%\n",
    "train_2, test_2 = train_test_split(movielens, test_size=0.1, random_state=142)\n",
    "print(train_2.shape)\n",
    "print(test_2.shape)"
   ]
  },
  {
   "cell_type": "markdown",
   "id": "14600224",
   "metadata": {},
   "source": [
    "### Train Linear Regression Models with Feature Selection under Cases 1 & 2\n",
    "* When training a machine learning model for prediction, we may need to select the most important/correlated input features for more accurate results. \n",
    "* To investigate whether feature selection affects the model performance, please select two most correlated features and two least correlated features regarding rating, respectively. \n",
    "* Train four linear regression models by following the conditions:\n",
    "    - (model-a) using the training/testing data in case 1 with two most correlated input features\n",
    "    - (model-b) using the training/testing data in case 1 with two least correlated input features\n",
    "    - (model-c) using the training/testing data in case 2 with two most correlated input features\n",
    "    - (model-d) using the training/testing data in case 2 with two least correlated input features\n",
    "* By doing this, we can verify the impacts of the size of traing/testing data on the model performance via comparing model-a and model-c (or model-b and model-d); meanwhile the impacts of feature selection can be validated via comparing model-a and model-b (or model-c and model-d).    "
   ]
  },
  {
   "cell_type": "code",
   "execution_count": 12,
   "id": "4d4ea2f3",
   "metadata": {},
   "outputs": [],
   "source": [
    "lr = linear_model.LinearRegression()\n",
    "\n",
    "most_correlated_features = ['age', 'genre']\n",
    "least_correlated_features = ['gender', 'occupation']"
   ]
  },
  {
   "cell_type": "markdown",
   "id": "89ee432f",
   "metadata": {},
   "source": [
    "#### model-a: using the training/testing data in case 1 with two most correlated input features"
   ]
  },
  {
   "cell_type": "code",
   "execution_count": 13,
   "id": "4374fb7d",
   "metadata": {},
   "outputs": [
    {
     "data": {
      "text/plain": [
       "LinearRegression()"
      ]
     },
     "execution_count": 13,
     "metadata": {},
     "output_type": "execute_result"
    }
   ],
   "source": [
    "X_train_a = train_1[most_correlated_features]\n",
    "y_train_a = train_1['rating']\n",
    "\n",
    "X_test_a = test_1[most_correlated_features]\n",
    "y_test_a = test_1['rating']\n",
    "\n",
    "lr.fit(X_train_a, y_train_a)"
   ]
  },
  {
   "cell_type": "markdown",
   "id": "c087cff3",
   "metadata": {},
   "source": [
    "#### model-b: using the training/testing data in case 1 with two least correlated input features"
   ]
  },
  {
   "cell_type": "code",
   "execution_count": 14,
   "id": "766062ce",
   "metadata": {},
   "outputs": [
    {
     "data": {
      "text/plain": [
       "LinearRegression()"
      ]
     },
     "execution_count": 14,
     "metadata": {},
     "output_type": "execute_result"
    }
   ],
   "source": [
    "X_train_b = train_1[least_correlated_features]\n",
    "y_train_b = train_1['rating']\n",
    "\n",
    "X_test_b = test_1[least_correlated_features]\n",
    "y_test_b = test_1['rating']\n",
    "\n",
    "lr.fit(X_train_b, y_train_b)"
   ]
  },
  {
   "cell_type": "markdown",
   "id": "a1f74132",
   "metadata": {},
   "source": [
    "#### model-c: using the training/testing data in case 2 with two most correlated input features"
   ]
  },
  {
   "cell_type": "code",
   "execution_count": 15,
   "id": "d2d26b74",
   "metadata": {},
   "outputs": [
    {
     "data": {
      "text/plain": [
       "LinearRegression()"
      ]
     },
     "execution_count": 15,
     "metadata": {},
     "output_type": "execute_result"
    }
   ],
   "source": [
    "X_train_c = train_2[most_correlated_features]\n",
    "y_train_c = train_2['rating']\n",
    "\n",
    "X_test_c = test_2[most_correlated_features]\n",
    "y_test_c = test_2['rating']\n",
    "\n",
    "lr.fit(X_train_c, y_train_c)"
   ]
  },
  {
   "cell_type": "markdown",
   "id": "1a8663fb",
   "metadata": {},
   "source": [
    "#### model-d: using the training/testing data in case 2 with two least correlated input features"
   ]
  },
  {
   "cell_type": "code",
   "execution_count": 16,
   "id": "cc50cc1e",
   "metadata": {},
   "outputs": [
    {
     "data": {
      "text/plain": [
       "LinearRegression()"
      ]
     },
     "execution_count": 16,
     "metadata": {},
     "output_type": "execute_result"
    }
   ],
   "source": [
    "X_train_d = train_2[least_correlated_features]\n",
    "y_train_d = train_2['rating']\n",
    "\n",
    "X_test_d = test_2[least_correlated_features]\n",
    "y_test_d = test_2['rating']\n",
    "\n",
    "lr.fit(X_train_d, y_train_d)"
   ]
  },
  {
   "cell_type": "markdown",
   "id": "f85c7279",
   "metadata": {},
   "source": [
    "### Evaluate Models\n",
    "* Evaluate the performance of the four models with two metrics, including MSE and Root MSE\n",
    "* Print the results of the four models regarding the two metrics"
   ]
  },
  {
   "cell_type": "markdown",
   "id": "1699c62c",
   "metadata": {},
   "source": [
    "#### Evaluation: model-a "
   ]
  },
  {
   "cell_type": "code",
   "execution_count": 17,
   "id": "c28e0f33",
   "metadata": {},
   "outputs": [
    {
     "name": "stdout",
     "output_type": "stream",
     "text": [
      "MSE: 1.5903827602972627\n",
      "Root MSE: 1.2611037864891463\n",
      "R Squared: -0.2753291355840566\n"
     ]
    }
   ],
   "source": [
    "predicted = lr.predict(X_test_a)\n",
    "mse_a = ((np.array(y_test_a)-predicted)**2).sum()/len(y_test_a)\n",
    "rmse_a = np.sqrt(mse_a)\n",
    "r2_a = r2_score(y_test_a, predicted)\n",
    "print(\"MSE:\", mse_a)\n",
    "print(\"Root MSE:\", rmse_a)\n",
    "print(\"R Squared:\", r2_a)"
   ]
  },
  {
   "cell_type": "markdown",
   "id": "8267aa55",
   "metadata": {},
   "source": [
    "#### Evaluation: model-b"
   ]
  },
  {
   "cell_type": "code",
   "execution_count": 18,
   "id": "d0796077",
   "metadata": {},
   "outputs": [
    {
     "name": "stdout",
     "output_type": "stream",
     "text": [
      "MSE: 1.2455770895802942\n",
      "Root MSE: 1.1160542502854842\n",
      "R Squared: 0.001170791953990391\n"
     ]
    }
   ],
   "source": [
    "predicted = lr.predict(X_test_b)\n",
    "mse_b = ((np.array(y_test_b)-predicted)**2).sum()/len(y_test_b)\n",
    "rmse_b = np.sqrt(mse_b)\n",
    "r2_b = r2_score(y_test_b, predicted)\n",
    "print(\"MSE:\", mse_b)\n",
    "print(\"Root MSE:\", rmse_b)\n",
    "print(\"R Squared:\", r2_b)"
   ]
  },
  {
   "cell_type": "markdown",
   "id": "6162bb9e",
   "metadata": {},
   "source": [
    "#### Evaluation: model-c"
   ]
  },
  {
   "cell_type": "code",
   "execution_count": 19,
   "id": "27894d13",
   "metadata": {},
   "outputs": [
    {
     "name": "stdout",
     "output_type": "stream",
     "text": [
      "MSE: 1.572662263257254\n",
      "Root MSE: 1.2540583173270907\n",
      "R Squared: -0.2716137700034058\n"
     ]
    }
   ],
   "source": [
    "predicted = lr.predict(X_test_c)\n",
    "mse_c = ((np.array(y_test_c)-predicted)**2).sum()/len(y_test_c)\n",
    "rmse_c = np.sqrt(mse_c)\n",
    "r2_c = r2_score(y_test_c, predicted)\n",
    "print(\"MSE:\", mse_c)\n",
    "print(\"Root MSE:\", rmse_c)\n",
    "print(\"R Squared:\", r2_c)"
   ]
  },
  {
   "cell_type": "markdown",
   "id": "628134fe",
   "metadata": {},
   "source": [
    "#### Evaluation: model-d"
   ]
  },
  {
   "cell_type": "code",
   "execution_count": 20,
   "id": "445f6c67",
   "metadata": {},
   "outputs": [
    {
     "name": "stdout",
     "output_type": "stream",
     "text": [
      "MSE: 1.2357380214091604\n",
      "Root MSE: 1.1116375404821306\n",
      "R Squared: 0.0008144018881391935\n"
     ]
    }
   ],
   "source": [
    "predicted = lr.predict(X_test_d)\n",
    "mse_d = ((np.array(y_test_d)-predicted)**2).sum()/len(y_test_d)\n",
    "rmse_d = np.sqrt(mse_d)\n",
    "r2_d = r2_score(y_test_d, predicted)\n",
    "print(\"MSE:\", mse_d)\n",
    "print(\"Root MSE:\", rmse_d)\n",
    "print(\"R Squared:\", r2_d)"
   ]
  },
  {
   "cell_type": "markdown",
   "id": "8c614fb5",
   "metadata": {},
   "source": [
    "### Visualize, Compare and Analyze the Results\n",
    "* Visulize the results, and perform ___insightful analysis___ on the obtained results. For better visualization, you may need to carefully set the scale for the y-axis.\n",
    "* Normally, the model trained with most correlated features and more training data will get better results. Do you obtain the similar observations? If not, please ___explain the possible reasons___."
   ]
  },
  {
   "cell_type": "code",
   "execution_count": 21,
   "id": "f9f3695d",
   "metadata": {},
   "outputs": [
    {
     "data": {
      "text/html": [
       "<div>\n",
       "<style scoped>\n",
       "    .dataframe tbody tr th:only-of-type {\n",
       "        vertical-align: middle;\n",
       "    }\n",
       "\n",
       "    .dataframe tbody tr th {\n",
       "        vertical-align: top;\n",
       "    }\n",
       "\n",
       "    .dataframe thead th {\n",
       "        text-align: right;\n",
       "    }\n",
       "</style>\n",
       "<table border=\"1\" class=\"dataframe\">\n",
       "  <thead>\n",
       "    <tr style=\"text-align: right;\">\n",
       "      <th></th>\n",
       "      <th>Model</th>\n",
       "      <th>MSE</th>\n",
       "      <th>RMSE</th>\n",
       "      <th>R Squared</th>\n",
       "    </tr>\n",
       "  </thead>\n",
       "  <tbody>\n",
       "    <tr>\n",
       "      <th>0</th>\n",
       "      <td>A</td>\n",
       "      <td>1.590383</td>\n",
       "      <td>1.261104</td>\n",
       "      <td>-0.275329</td>\n",
       "    </tr>\n",
       "    <tr>\n",
       "      <th>1</th>\n",
       "      <td>B</td>\n",
       "      <td>1.245577</td>\n",
       "      <td>1.116054</td>\n",
       "      <td>0.001171</td>\n",
       "    </tr>\n",
       "    <tr>\n",
       "      <th>2</th>\n",
       "      <td>C</td>\n",
       "      <td>1.572662</td>\n",
       "      <td>1.254058</td>\n",
       "      <td>-0.271614</td>\n",
       "    </tr>\n",
       "    <tr>\n",
       "      <th>3</th>\n",
       "      <td>D</td>\n",
       "      <td>1.235738</td>\n",
       "      <td>1.111638</td>\n",
       "      <td>0.000814</td>\n",
       "    </tr>\n",
       "  </tbody>\n",
       "</table>\n",
       "</div>"
      ],
      "text/plain": [
       "  Model       MSE      RMSE  R Squared\n",
       "0     A  1.590383  1.261104  -0.275329\n",
       "1     B  1.245577  1.116054   0.001171\n",
       "2     C  1.572662  1.254058  -0.271614\n",
       "3     D  1.235738  1.111638   0.000814"
      ]
     },
     "execution_count": 21,
     "metadata": {},
     "output_type": "execute_result"
    }
   ],
   "source": [
    "models = {\n",
    "    'Model': ['A', 'B', 'C', 'D'],\n",
    "    'MSE': [mse_a, mse_b, mse_c, mse_d],\n",
    "    \n",
    "    'RMSE': [rmse_a, rmse_b, rmse_c, rmse_d],\n",
    "    \n",
    "    'R Squared': [r2_a, r2_b, r2_c, r2_d]\n",
    "}\n",
    "\n",
    "df = pd.DataFrame(models)\n",
    "df"
   ]
  },
  {
   "cell_type": "code",
   "execution_count": 22,
   "id": "d4e15f7d",
   "metadata": {},
   "outputs": [
    {
     "data": {
      "text/plain": [
       "<AxesSubplot:title={'center':'MSE and RMSE Comparision across models'}, xlabel='Model'>"
      ]
     },
     "execution_count": 22,
     "metadata": {},
     "output_type": "execute_result"
    },
    {
     "data": {
      "image/png": "[encoded data removed]",
      "text/plain": [
       "<Figure size 576x576 with 1 Axes>"
      ]
     },
     "metadata": {
      "needs_background": "light"
     },
     "output_type": "display_data"
    }
   ],
   "source": [
    "df.plot(kind='bar',x='Model', y=['MSE', 'RMSE'], figsize= (8,8), title = \"MSE and RMSE Comparision across models\", ylim = (1,1.7), color = ['green', 'black'], rot = 0)"
   ]
  },
  {
   "cell_type": "markdown",
   "id": "7de2c38e",
   "metadata": {},
   "source": [
    "#### Summary: \n",
    "* When compare the 2 cases:\n",
    "    * Case 1: training data containing 10% of the entire data\n",
    "    * Case 2: training data containing 90% of the entire data, we notice that the models perform better and give smaller errors when the training data contains 90% of the entire data (10% for test data).\n",
    "\n",
    "* In addition, the errors (both MSE and RMSE) are significantly lower when we use the features that have the highest correlation with the target column. The higher the correlation, the smaller error of the model. \n",
    "\n",
    "* Although 'age' and 'genre' are seen to have the highest correlation with the target 'rating' comparing to other features, these two input features are fairly not a good indicator for our prediction since their correlation are not informative when putting in the range between -1 and 1"
   ]
  }
 ],
 "metadata": {
  "kernelspec": {
   "display_name": "Python 3 (ipykernel)",
   "language": "python",
   "name": "python3"
  },
  "language_info": {
   "codemirror_mode": {
    "name": "ipython",
    "version": 3
   },
   "file_extension": ".py",
   "mimetype": "text/x-python",
   "name": "python",
   "nbconvert_exporter": "python",
   "pygments_lexer": "ipython3",
   "version": "3.9.7"
  }
 },
 "nbformat": 4,
 "nbformat_minor": 5
}
