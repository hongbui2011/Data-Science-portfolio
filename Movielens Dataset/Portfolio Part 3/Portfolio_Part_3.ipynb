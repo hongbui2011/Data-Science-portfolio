{
 "cells": [
  {
   "cell_type": "markdown",
   "id": "e4aef348",
   "metadata": {},
   "source": [
    "## Portfolio Part 3"
   ]
  },
  {
   "cell_type": "markdown",
   "id": "0619c315",
   "metadata": {},
   "source": [
    "In this Portfolio task you will continue working with the movielens data collected by the GroupLens Research Project at the University of Minnesota. The columns in the dataset are a little bit different from the ones provided in the previous Portfolio tasks, where the 'rating' column is replaced by the 'feedback' column. There are two values regarding the 'feedback' with 1 indicating the user likes the corresponding movie; otherwise 0. \n",
    "\n",
    "The header of the csv file is shown below. \n",
    "\n",
    "| userId | age | gender | occupation| movieId | feedback | genre | timestamp |\n",
    "    | ---- | ---- | ---- | ---- | ---- | ---- | ---- | ---- | \n",
    "    \n",
    "#### Description of Fields\n",
    "\n",
    "* __userId__ - the user's id\n",
    "* __age__ - the user's age\n",
    "* __gender__ - the user's gender\n",
    "* __occupation__ - the user's occupation\n",
    "* __movieId__ - the movie's id\n",
    "* __feedback__ - the user's feedback towards the movie (1 means 'like'; 0 means 'dislike')\n",
    "* __genre__ - the genre of the movie\n",
    "* __timestamp__ - the timestamp indicating when the user rated the movie\n",
    "\n",
    "Note that, a same user (i.e., a same userId) corresponds to a same age/gender/occupation; a same movie (i.e., a same movieId) corresponds to a same genre; a same user (i.e., a same userId) may like multiple movies and a same movie (i.e., a same movieId) may be preferred by multiple users.\n",
    "\n",
    "\n",
    "Your high level goal in this notebook is to try to build and evaluate predictive models for feedback from available features - predict the value of the __feedback__ field in the data from some of the other fields. Explore the data, build a model using a selection of features and then do some work on finding out which features provide the most accurate results.\n",
    "\n",
    "Note: you are not being evaluated on the ___accuracy___ of the model but on the ___process___ that you use to generate it. Please use a ___simple Logistic Regression model___ and ___one of the more advanced methods___ covered in recent weeks. Accordingly, discuss the performance of the simple and advanced methods."
   ]
  },
  {
   "cell_type": "code",
   "execution_count": 1,
   "id": "47be0d08",
   "metadata": {},
   "outputs": [],
   "source": [
    "import pandas as pd\n",
    "import numpy as np\n",
    "import matplotlib.pyplot as plt\n",
    "import seaborn as sns\n",
    "%matplotlib inline\n",
    "\n",
    "import warnings\n",
    "warnings.filterwarnings('ignore')"
   ]
  },
  {
   "cell_type": "code",
   "execution_count": 2,
   "id": "ee4092c1",
   "metadata": {},
   "outputs": [],
   "source": [
    "from sklearn.model_selection import train_test_split\n",
    "from sklearn import linear_model\n",
    "from sklearn.metrics import r2_score\n",
    "from sklearn.linear_model import LogisticRegression\n",
    "from sklearn.metrics import confusion_matrix, accuracy_score\n",
    "from sklearn.feature_selection import RFE"
   ]
  },
  {
   "cell_type": "code",
   "execution_count": 3,
   "id": "84c57251",
   "metadata": {},
   "outputs": [
    {
     "data": {
      "text/html": [
       "<div>\n",
       "<style scoped>\n",
       "    .dataframe tbody tr th:only-of-type {\n",
       "        vertical-align: middle;\n",
       "    }\n",
       "\n",
       "    .dataframe tbody tr th {\n",
       "        vertical-align: top;\n",
       "    }\n",
       "\n",
       "    .dataframe thead th {\n",
       "        text-align: right;\n",
       "    }\n",
       "</style>\n",
       "<table border=\"1\" class=\"dataframe\">\n",
       "  <thead>\n",
       "    <tr style=\"text-align: right;\">\n",
       "      <th></th>\n",
       "      <th>userId</th>\n",
       "      <th>age</th>\n",
       "      <th>gender</th>\n",
       "      <th>occupation</th>\n",
       "      <th>movieId</th>\n",
       "      <th>feedback</th>\n",
       "      <th>genre</th>\n",
       "      <th>timestamp</th>\n",
       "    </tr>\n",
       "  </thead>\n",
       "  <tbody>\n",
       "    <tr>\n",
       "      <th>0</th>\n",
       "      <td>196</td>\n",
       "      <td>49</td>\n",
       "      <td>M</td>\n",
       "      <td>writer</td>\n",
       "      <td>242</td>\n",
       "      <td>0</td>\n",
       "      <td>Comedy</td>\n",
       "      <td>881250949</td>\n",
       "    </tr>\n",
       "    <tr>\n",
       "      <th>1</th>\n",
       "      <td>186</td>\n",
       "      <td>39</td>\n",
       "      <td>F</td>\n",
       "      <td>executive</td>\n",
       "      <td>302</td>\n",
       "      <td>0</td>\n",
       "      <td>Crime</td>\n",
       "      <td>891717742</td>\n",
       "    </tr>\n",
       "    <tr>\n",
       "      <th>2</th>\n",
       "      <td>22</td>\n",
       "      <td>25</td>\n",
       "      <td>M</td>\n",
       "      <td>writer</td>\n",
       "      <td>377</td>\n",
       "      <td>0</td>\n",
       "      <td>Children</td>\n",
       "      <td>878887116</td>\n",
       "    </tr>\n",
       "    <tr>\n",
       "      <th>3</th>\n",
       "      <td>244</td>\n",
       "      <td>28</td>\n",
       "      <td>M</td>\n",
       "      <td>technician</td>\n",
       "      <td>51</td>\n",
       "      <td>0</td>\n",
       "      <td>Romance</td>\n",
       "      <td>880606923</td>\n",
       "    </tr>\n",
       "    <tr>\n",
       "      <th>4</th>\n",
       "      <td>166</td>\n",
       "      <td>47</td>\n",
       "      <td>M</td>\n",
       "      <td>educator</td>\n",
       "      <td>346</td>\n",
       "      <td>0</td>\n",
       "      <td>Drama</td>\n",
       "      <td>886397596</td>\n",
       "    </tr>\n",
       "    <tr>\n",
       "      <th>5</th>\n",
       "      <td>298</td>\n",
       "      <td>44</td>\n",
       "      <td>M</td>\n",
       "      <td>executive</td>\n",
       "      <td>474</td>\n",
       "      <td>1</td>\n",
       "      <td>War</td>\n",
       "      <td>884182806</td>\n",
       "    </tr>\n",
       "    <tr>\n",
       "      <th>6</th>\n",
       "      <td>115</td>\n",
       "      <td>31</td>\n",
       "      <td>M</td>\n",
       "      <td>engineer</td>\n",
       "      <td>265</td>\n",
       "      <td>0</td>\n",
       "      <td>Action</td>\n",
       "      <td>881171488</td>\n",
       "    </tr>\n",
       "    <tr>\n",
       "      <th>7</th>\n",
       "      <td>253</td>\n",
       "      <td>26</td>\n",
       "      <td>F</td>\n",
       "      <td>librarian</td>\n",
       "      <td>465</td>\n",
       "      <td>1</td>\n",
       "      <td>Adventure</td>\n",
       "      <td>891628467</td>\n",
       "    </tr>\n",
       "    <tr>\n",
       "      <th>8</th>\n",
       "      <td>305</td>\n",
       "      <td>23</td>\n",
       "      <td>M</td>\n",
       "      <td>programmer</td>\n",
       "      <td>451</td>\n",
       "      <td>0</td>\n",
       "      <td>Romance</td>\n",
       "      <td>886324817</td>\n",
       "    </tr>\n",
       "    <tr>\n",
       "      <th>9</th>\n",
       "      <td>6</td>\n",
       "      <td>42</td>\n",
       "      <td>M</td>\n",
       "      <td>executive</td>\n",
       "      <td>86</td>\n",
       "      <td>0</td>\n",
       "      <td>Drama</td>\n",
       "      <td>883603013</td>\n",
       "    </tr>\n",
       "  </tbody>\n",
       "</table>\n",
       "</div>"
      ],
      "text/plain": [
       "   userId  age gender  occupation  movieId  feedback      genre  timestamp\n",
       "0     196   49      M      writer      242         0     Comedy  881250949\n",
       "1     186   39      F   executive      302         0      Crime  891717742\n",
       "2      22   25      M      writer      377         0   Children  878887116\n",
       "3     244   28      M  technician       51         0    Romance  880606923\n",
       "4     166   47      M    educator      346         0      Drama  886397596\n",
       "5     298   44      M   executive      474         1        War  884182806\n",
       "6     115   31      M    engineer      265         0     Action  881171488\n",
       "7     253   26      F   librarian      465         1  Adventure  891628467\n",
       "8     305   23      M  programmer      451         0    Romance  886324817\n",
       "9       6   42      M   executive       86         0      Drama  883603013"
      ]
     },
     "execution_count": 3,
     "metadata": {},
     "output_type": "execute_result"
    }
   ],
   "source": [
    "df = pd.read_csv('files/movielens_data_feedback.csv')\n",
    "df.head(10)"
   ]
  },
  {
   "cell_type": "markdown",
   "id": "d55fcec2",
   "metadata": {},
   "source": [
    "### Data exploration"
   ]
  },
  {
   "cell_type": "code",
   "execution_count": 4,
   "id": "ae64b892",
   "metadata": {},
   "outputs": [
    {
     "name": "stdout",
     "output_type": "stream",
     "text": [
      "<class 'pandas.core.frame.DataFrame'>\n",
      "RangeIndex: 100000 entries, 0 to 99999\n",
      "Data columns (total 8 columns):\n",
      " #   Column      Non-Null Count   Dtype \n",
      "---  ------      --------------   ----- \n",
      " 0   userId      100000 non-null  int64 \n",
      " 1   age         100000 non-null  int64 \n",
      " 2   gender      100000 non-null  object\n",
      " 3   occupation  100000 non-null  object\n",
      " 4   movieId     100000 non-null  int64 \n",
      " 5   feedback    100000 non-null  int64 \n",
      " 6   genre       100000 non-null  object\n",
      " 7   timestamp   100000 non-null  int64 \n",
      "dtypes: int64(5), object(3)\n",
      "memory usage: 6.1+ MB\n"
     ]
    }
   ],
   "source": [
    "df.info()"
   ]
  },
  {
   "cell_type": "code",
   "execution_count": 5,
   "id": "2331fc1a",
   "metadata": {},
   "outputs": [
    {
     "name": "stdout",
     "output_type": "stream",
     "text": [
      "1    55375\n",
      "0    44625\n",
      "Name: feedback, dtype: int64\n"
     ]
    }
   ],
   "source": [
    "print(df['feedback'].value_counts())"
   ]
  },
  {
   "cell_type": "code",
   "execution_count": 6,
   "id": "5774564b",
   "metadata": {},
   "outputs": [
    {
     "data": {
      "text/plain": [
       "[Text(0.5, 1.0, 'Rating distribution by gender')]"
      ]
     },
     "execution_count": 6,
     "metadata": {},
     "output_type": "execute_result"
    },
    {
     "data": {
      "image/png": "[encoded data removed]",
      "text/plain": [
       "<Figure size 360x360 with 1 Axes>"
      ]
     },
     "metadata": {
      "needs_background": "light"
     },
     "output_type": "display_data"
    }
   ],
   "source": [
    "plt.figure(figsize=(5,5))\n",
    "sns.countplot(x='feedback', data = df, hue='gender', palette = 'twilight').set(title = 'Rating distribution by gender')"
   ]
  },
  {
   "cell_type": "markdown",
   "id": "4e8f5a0f",
   "metadata": {},
   "source": [
    "The number of male voters is significantly higher than the number of female voters, in terms of both negative and positive feedback. Besides, it shows that there are more movies that receive positive feedback from audiences than movies that receive 'dislikes'. This indicates that the views tend to give good feedback for the movies. "
   ]
  },
  {
   "cell_type": "code",
   "execution_count": 7,
   "id": "4b39f021",
   "metadata": {},
   "outputs": [
    {
     "data": {
      "text/plain": [
       "[Text(0.5, 1.0, 'Age - Feedback boxplot')]"
      ]
     },
     "execution_count": 7,
     "metadata": {},
     "output_type": "execute_result"
    },
    {
     "data": {
      "image/png": "[encoded data removed]",
      "text/plain": [
       "<Figure size 720x360 with 1 Axes>"
      ]
     },
     "metadata": {},
     "output_type": "display_data"
    }
   ],
   "source": [
    "sns.set(style=\"whitegrid\")\n",
    "plt.figure(figsize=(10,5))\n",
    "\n",
    "sns.boxplot(y=df.age, x=df.feedback, width = 0.3, linewidth = 2.5).set(title ='Age - Feedback boxplot')"
   ]
  },
  {
   "cell_type": "markdown",
   "id": "24811712",
   "metadata": {},
   "source": [
    "The median age among the users is around 30 years. Age range for users who give 'dislike' is slightly smaller than users who give 'like' for the movies, which suggests that older people tend to be easier when giving feedbacks on movies."
   ]
  },
  {
   "cell_type": "markdown",
   "id": "8bf4f72d",
   "metadata": {},
   "source": [
    "### Data preparation "
   ]
  },
  {
   "cell_type": "code",
   "execution_count": 8,
   "id": "d51ca47c",
   "metadata": {},
   "outputs": [],
   "source": [
    "#convert gender to numerical values\n",
    "df['gender'] = df['gender'].astype('category')\n",
    "df['gender'] = df['gender'].cat.codes\n",
    "\n",
    "#convert occuptaion to numerical values\n",
    "df['occupation'] = df['occupation'].astype('category')\n",
    "df['occupation'] = df['occupation'].cat.codes\n",
    "\n",
    "#convert genre to numerical values\n",
    "df['genre'] = df['genre'].astype('category')\n",
    "df['genre'] = df['genre'].cat.codes"
   ]
  },
  {
   "cell_type": "code",
   "execution_count": 9,
   "id": "8e24f727",
   "metadata": {},
   "outputs": [
    {
     "data": {
      "text/html": [
       "<div>\n",
       "<style scoped>\n",
       "    .dataframe tbody tr th:only-of-type {\n",
       "        vertical-align: middle;\n",
       "    }\n",
       "\n",
       "    .dataframe tbody tr th {\n",
       "        vertical-align: top;\n",
       "    }\n",
       "\n",
       "    .dataframe thead th {\n",
       "        text-align: right;\n",
       "    }\n",
       "</style>\n",
       "<table border=\"1\" class=\"dataframe\">\n",
       "  <thead>\n",
       "    <tr style=\"text-align: right;\">\n",
       "      <th></th>\n",
       "      <th>userId</th>\n",
       "      <th>age</th>\n",
       "      <th>gender</th>\n",
       "      <th>occupation</th>\n",
       "      <th>movieId</th>\n",
       "      <th>feedback</th>\n",
       "      <th>genre</th>\n",
       "      <th>timestamp</th>\n",
       "    </tr>\n",
       "  </thead>\n",
       "  <tbody>\n",
       "    <tr>\n",
       "      <th>0</th>\n",
       "      <td>196</td>\n",
       "      <td>49</td>\n",
       "      <td>1</td>\n",
       "      <td>20</td>\n",
       "      <td>242</td>\n",
       "      <td>0</td>\n",
       "      <td>4</td>\n",
       "      <td>881250949</td>\n",
       "    </tr>\n",
       "    <tr>\n",
       "      <th>1</th>\n",
       "      <td>186</td>\n",
       "      <td>39</td>\n",
       "      <td>0</td>\n",
       "      <td>6</td>\n",
       "      <td>302</td>\n",
       "      <td>0</td>\n",
       "      <td>5</td>\n",
       "      <td>891717742</td>\n",
       "    </tr>\n",
       "    <tr>\n",
       "      <th>2</th>\n",
       "      <td>22</td>\n",
       "      <td>25</td>\n",
       "      <td>1</td>\n",
       "      <td>20</td>\n",
       "      <td>377</td>\n",
       "      <td>0</td>\n",
       "      <td>3</td>\n",
       "      <td>878887116</td>\n",
       "    </tr>\n",
       "    <tr>\n",
       "      <th>3</th>\n",
       "      <td>244</td>\n",
       "      <td>28</td>\n",
       "      <td>1</td>\n",
       "      <td>19</td>\n",
       "      <td>51</td>\n",
       "      <td>0</td>\n",
       "      <td>13</td>\n",
       "      <td>880606923</td>\n",
       "    </tr>\n",
       "    <tr>\n",
       "      <th>4</th>\n",
       "      <td>166</td>\n",
       "      <td>47</td>\n",
       "      <td>1</td>\n",
       "      <td>3</td>\n",
       "      <td>346</td>\n",
       "      <td>0</td>\n",
       "      <td>7</td>\n",
       "      <td>886397596</td>\n",
       "    </tr>\n",
       "  </tbody>\n",
       "</table>\n",
       "</div>"
      ],
      "text/plain": [
       "   userId  age  gender  occupation  movieId  feedback  genre  timestamp\n",
       "0     196   49       1          20      242         0      4  881250949\n",
       "1     186   39       0           6      302         0      5  891717742\n",
       "2      22   25       1          20      377         0      3  878887116\n",
       "3     244   28       1          19       51         0     13  880606923\n",
       "4     166   47       1           3      346         0      7  886397596"
      ]
     },
     "execution_count": 9,
     "metadata": {},
     "output_type": "execute_result"
    }
   ],
   "source": [
    "df.head()"
   ]
  },
  {
   "cell_type": "markdown",
   "id": "7b3a597c",
   "metadata": {},
   "source": [
    "### Split Training and Testing Data"
   ]
  },
  {
   "cell_type": "code",
   "execution_count": 10,
   "id": "e7fafcd4",
   "metadata": {},
   "outputs": [],
   "source": [
    "feature_cols = np.array(['age', 'gender', 'occupation','genre', 'timestamp'])\n",
    "\n",
    "X = df[feature_cols]\n",
    "y = df['feedback']\n",
    "\n",
    "# Data split\n",
    "X_train, X_test, y_train, y_test = train_test_split(X, y, test_size=0.1, random_state=142)"
   ]
  },
  {
   "cell_type": "markdown",
   "id": "ccc16aa3",
   "metadata": {},
   "source": [
    "### Regression Model"
   ]
  },
  {
   "cell_type": "code",
   "execution_count": 11,
   "id": "a7261fbc",
   "metadata": {},
   "outputs": [
    {
     "data": {
      "text/plain": [
       "LogisticRegression()"
      ]
     },
     "execution_count": 11,
     "metadata": {},
     "output_type": "execute_result"
    }
   ],
   "source": [
    "logreg = LogisticRegression()\n",
    "logreg.fit(X_train, y_train)"
   ]
  },
  {
   "cell_type": "code",
   "execution_count": 12,
   "id": "1d6cda40",
   "metadata": {},
   "outputs": [
    {
     "name": "stdout",
     "output_type": "stream",
     "text": [
      "Training accuracy is:  0.5525555555555556\n",
      "Testing accuracy is:  0.5645\n"
     ]
    }
   ],
   "source": [
    "# Doing predictions on train and test set\n",
    "logreg_pred_train = logreg.predict(X_train)\n",
    "logreg_pred_test = logreg.predict(X_test)\n",
    "\n",
    "logreg_train_accuracy = accuracy_score(logreg_pred_train, y_train)\n",
    "print('Training accuracy is: ', logreg_train_accuracy)\n",
    "\n",
    "logreg_test_accuracy = accuracy_score(logreg_pred_test, y_test)\n",
    "print('Testing accuracy is: ', logreg_test_accuracy)"
   ]
  },
  {
   "cell_type": "markdown",
   "id": "d7ae8ab2",
   "metadata": {},
   "source": [
    "Result of Regression Model using all available features. From the result, we may need to think about choosing the best features in order to optimize our prediction"
   ]
  },
  {
   "cell_type": "markdown",
   "id": "c58cd297",
   "metadata": {},
   "source": [
    "### K-Nearest Neighbors Model"
   ]
  },
  {
   "cell_type": "code",
   "execution_count": 13,
   "id": "92ae6e6c",
   "metadata": {},
   "outputs": [
    {
     "data": {
      "text/plain": [
       "KNeighborsClassifier(n_neighbors=10)"
      ]
     },
     "execution_count": 13,
     "metadata": {},
     "output_type": "execute_result"
    }
   ],
   "source": [
    "from sklearn.neighbors import KNeighborsClassifier\n",
    "knn = KNeighborsClassifier(n_neighbors =10)\n",
    "knn.fit(X_train, y_train)"
   ]
  },
  {
   "cell_type": "code",
   "execution_count": 14,
   "id": "8fef4be7",
   "metadata": {},
   "outputs": [
    {
     "name": "stdout",
     "output_type": "stream",
     "text": [
      "Training accuracy is:  0.7256333333333334\n",
      "Testing accuracy is:  0.6617\n"
     ]
    }
   ],
   "source": [
    "# Doing predictions on train and test set\n",
    "knn_pred_train = knn.predict(X_train)\n",
    "knn_pred_test = knn.predict(X_test)\n",
    "\n",
    "knn_train_accuracy = accuracy_score(knn_pred_train, y_train)\n",
    "print('Training accuracy is: ', knn_train_accuracy)\n",
    "\n",
    "knn_test_accuracy = accuracy_score(knn_pred_test, y_test)\n",
    "print('Testing accuracy is: ', knn_test_accuracy)"
   ]
  },
  {
   "cell_type": "markdown",
   "id": "a002305c",
   "metadata": {},
   "source": [
    "Result of KNN  model using all available features is higher than what we get from employing Regression Model. However, our training accuracy is significantly higher than testing accuracy, which suggests that our model is overfitting. We may need to find the best features and our choice of 'k' value in order to get the most optimal prediction result. "
   ]
  },
  {
   "cell_type": "code",
   "execution_count": 15,
   "id": "b0aa5b5b",
   "metadata": {},
   "outputs": [
    {
     "name": "stdout",
     "output_type": "stream",
     "text": [
      "Accuracy for each round: \n",
      " [0.6488 0.6389 0.6388 0.6399 0.6327 0.6426 0.6251 0.6322 0.6337 0.6327]\n",
      "Average accuracy: 0.6365 +- 0.0063\n"
     ]
    }
   ],
   "source": [
    "from sklearn.model_selection import cross_val_score\n",
    "\n",
    "clf = KNeighborsClassifier(n_neighbors = 4)\n",
    "scores = cross_val_score(clf, X, y, cv=10)\n",
    "print('Accuracy for each round: \\n', scores)\n",
    "print('Average accuracy: %.4f +- %.4f' % (scores.mean(), scores.std()))"
   ]
  },
  {
   "cell_type": "markdown",
   "id": "67d97dad",
   "metadata": {},
   "source": [
    "Create a KNN classifier model and use k-fold cross validation for testing accuracy estimation will give us an idea of the accuracy we should obtain from employing KNN model. "
   ]
  },
  {
   "cell_type": "code",
   "execution_count": 16,
   "id": "cae66648",
   "metadata": {},
   "outputs": [
    {
     "name": "stdout",
     "output_type": "stream",
     "text": [
      "Best K value:  11\n",
      "The accuracy:  0.66165\n"
     ]
    }
   ],
   "source": [
    "from sklearn.model_selection import GridSearchCV\n",
    "# Define search space for parameters\n",
    "parameter_grid = {'n_neighbors': range(1, 21)}\n",
    "\n",
    "# Create the machine learning model\n",
    "knn_clf = KNeighborsClassifier()\n",
    "clf = GridSearchCV(knn_clf, parameter_grid, scoring='accuracy', cv=10)\n",
    "clf.fit(X, y)\n",
    "\n",
    "# Identify the best parameter(s)\n",
    "print('Best K value: ', clf.best_params_['n_neighbors'])\n",
    "print('The accuracy: ', clf.best_score_)"
   ]
  },
  {
   "cell_type": "markdown",
   "id": "03552eef",
   "metadata": {},
   "source": [
    "It is suggested that our KNN model will give the most accurate prediction when k value is set to 11. "
   ]
  },
  {
   "cell_type": "markdown",
   "id": "2802bff7",
   "metadata": {},
   "source": [
    "### Feature Selection"
   ]
  },
  {
   "cell_type": "code",
   "execution_count": 17,
   "id": "3d9cdc5a",
   "metadata": {},
   "outputs": [],
   "source": [
    "feature_score = pd.DataFrame(columns=[\"Feature\", \"Accuracy Score\"])\n",
    "for feature in X_train.columns:\n",
    "    knn = KNeighborsClassifier(n_neighbors = 11)\n",
    "    knn.fit(X_train[[feature]], y_train)\n",
    "    knn.score(X_test[[feature]], y_test)\n",
    "    feature_score = feature_score.append({\"Feature\": feature, \"Accuracy Score\": knn.score(X_test[[feature]], y_test)}, ignore_index=True)"
   ]
  },
  {
   "cell_type": "code",
   "execution_count": 18,
   "id": "e4edd3e1",
   "metadata": {},
   "outputs": [
    {
     "data": {
      "image/png": "[encoded data removed]",
      "text/plain": [
       "<Figure size 576x576 with 1 Axes>"
      ]
     },
     "metadata": {},
     "output_type": "display_data"
    }
   ],
   "source": [
    "feature_score = feature_score.sort_values(\"Accuracy Score\", ascending = False)\n",
    "plt.figure(figsize=(8,8))\n",
    "ax = sns.barplot(data=feature_score,\n",
    "                 x=\"Accuracy Score\",\n",
    "                 y=\"Feature\", \n",
    "                 palette = \"crest\")\n",
    "ax.set_title(\"Accuracy Score for Each Feature\")\n",
    "plt.show()"
   ]
  },
  {
   "cell_type": "markdown",
   "id": "1988e6ba",
   "metadata": {},
   "source": [
    "Graphing the accuracy of each feature in K-Nearest Neighbors. From the graph we can see that 'timestamp' and 'gender' are the 2 features that give us the highest accuracy. While 'age' is underperforming in our KNN model"
   ]
  },
  {
   "cell_type": "code",
   "execution_count": 19,
   "id": "b04b9a41",
   "metadata": {},
   "outputs": [
    {
     "name": "stdout",
     "output_type": "stream",
     "text": [
      "Accuracy on training set: 0.7228\n",
      "Accuracy on testing set: 0.6649\n"
     ]
    }
   ],
   "source": [
    "best_features = list(feature_score[feature_score[\"Accuracy Score\"] > 0.6].copy()[\"Feature\"])\n",
    "\n",
    "knn = KNeighborsClassifier(n_neighbors = 11)\n",
    "knn.fit(X_train[best_features], y_train)\n",
    "\n",
    "knn_training_accuracy = knn.score(X_train[best_features], y_train)\n",
    "print(\"Accuracy on training set:\", knn_training_accuracy)\n",
    "\n",
    "knn_testing_accuracy = knn.score(X_test[best_features], y_test)\n",
    "print(\"Accuracy on testing set:\", knn_testing_accuracy)"
   ]
  },
  {
   "cell_type": "markdown",
   "id": "6b2b016d",
   "metadata": {},
   "source": [
    "The accuracy on training set is still higher than on testing set, which suggests that our model is still overfitting even when we apply the optimal k value and optimal features."
   ]
  },
  {
   "cell_type": "code",
   "execution_count": 20,
   "id": "f340eb38",
   "metadata": {},
   "outputs": [
    {
     "name": "stdout",
     "output_type": "stream",
     "text": [
      "Number of features:  3\n",
      "Selected features: ['age' 'genre' 'timestamp']\n",
      "Features ranking:  [1 3 2 1 1]\n"
     ]
    }
   ],
   "source": [
    "rfe = RFE(logreg, 3)\n",
    "rfe_model = rfe.fit(X_train, y_train)\n",
    "print(\"Number of features: \", rfe_model.n_features_)\n",
    "print(\"Selected features:\", feature_cols[rfe.get_support()])\n",
    "print(\"Features ranking: \", rfe_model.ranking_)"
   ]
  },
  {
   "cell_type": "markdown",
   "id": "c0e397b4",
   "metadata": {},
   "source": [
    "For regression model, when it comes to feature selections, it is noticed that 'age', 'genre' and 'timestamp' have the most influence on our model performance. "
   ]
  },
  {
   "cell_type": "code",
   "execution_count": 21,
   "id": "6a3020fa",
   "metadata": {},
   "outputs": [
    {
     "name": "stdout",
     "output_type": "stream",
     "text": [
      "Training accuracy is:  0.5525555555555556\n",
      "Testing accuracy is:  0.5645\n"
     ]
    }
   ],
   "source": [
    "# test the model\n",
    "y_hat_train = rfe.predict(X_train)\n",
    "y_hat_test = rfe.predict(X_test)\n",
    "logreg_training_accuracy = accuracy_score(y_train, y_hat_train)\n",
    "print('Training accuracy is: ', logreg_training_accuracy)\n",
    "\n",
    "logreg_testing_accuracy = accuracy_score(y_test, y_hat_test)\n",
    "print('Testing accuracy is: ', logreg_testing_accuracy)"
   ]
  },
  {
   "cell_type": "markdown",
   "id": "cf04aab0",
   "metadata": {},
   "source": [
    "Regression model performs better on the testing set, though the accuracy is fairly low."
   ]
  },
  {
   "cell_type": "markdown",
   "id": "081c1a56",
   "metadata": {},
   "source": [
    "### Conclusion"
   ]
  },
  {
   "cell_type": "code",
   "execution_count": 22,
   "id": "d1d55d39",
   "metadata": {},
   "outputs": [
    {
     "data": {
      "text/html": [
       "<div>\n",
       "<style scoped>\n",
       "    .dataframe tbody tr th:only-of-type {\n",
       "        vertical-align: middle;\n",
       "    }\n",
       "\n",
       "    .dataframe tbody tr th {\n",
       "        vertical-align: top;\n",
       "    }\n",
       "\n",
       "    .dataframe thead th {\n",
       "        text-align: right;\n",
       "    }\n",
       "</style>\n",
       "<table border=\"1\" class=\"dataframe\">\n",
       "  <thead>\n",
       "    <tr style=\"text-align: right;\">\n",
       "      <th></th>\n",
       "      <th>Model</th>\n",
       "      <th>Training Accuracy</th>\n",
       "      <th>Testing Accuracy</th>\n",
       "    </tr>\n",
       "  </thead>\n",
       "  <tbody>\n",
       "    <tr>\n",
       "      <th>0</th>\n",
       "      <td>Logistic Regression</td>\n",
       "      <td>0.552556</td>\n",
       "      <td>0.5645</td>\n",
       "    </tr>\n",
       "    <tr>\n",
       "      <th>1</th>\n",
       "      <td>K-Nearest Neighbor</td>\n",
       "      <td>0.722800</td>\n",
       "      <td>0.6649</td>\n",
       "    </tr>\n",
       "  </tbody>\n",
       "</table>\n",
       "</div>"
      ],
      "text/plain": [
       "                 Model  Training Accuracy  Testing Accuracy\n",
       "0  Logistic Regression           0.552556            0.5645\n",
       "1   K-Nearest Neighbor           0.722800            0.6649"
      ]
     },
     "execution_count": 22,
     "metadata": {},
     "output_type": "execute_result"
    }
   ],
   "source": [
    "models = {\n",
    "    'Model': ['Logistic Regression', 'K-Nearest Neighbor'],\n",
    "    'Training Accuracy': [logreg_training_accuracy, knn_training_accuracy],\n",
    "    \n",
    "    'Testing Accuracy': [logreg_testing_accuracy, knn_testing_accuracy],\n",
    "    \n",
    "}\n",
    "\n",
    "accuracy = pd.DataFrame(models)\n",
    "accuracy"
   ]
  },
  {
   "cell_type": "code",
   "execution_count": 24,
   "id": "c255bb04",
   "metadata": {},
   "outputs": [
    {
     "data": {
      "text/plain": [
       "<AxesSubplot:title={'center':'Accuracies across models'}, xlabel='Model'>"
      ]
     },
     "execution_count": 24,
     "metadata": {},
     "output_type": "execute_result"
    },
    {
     "data": {
      "image/png": "[encoded data removed]",
      "text/plain": [
       "<Figure size 576x576 with 1 Axes>"
      ]
     },
     "metadata": {},
     "output_type": "display_data"
    }
   ],
   "source": [
    "accuracy.plot(kind='bar',x='Model', y=['Training Accuracy', 'Testing Accuracy'], figsize= (8,8), title = \"Accuracies across models\", color = ['c', 'm'], rot = 0)"
   ]
  },
  {
   "cell_type": "markdown",
   "id": "0497e1f9",
   "metadata": {},
   "source": [
    "#### Summary:\n",
    "* Overall, KNN model gives higher accuracy than Logistic Regression model\n",
    "* Logistic regression model performs better on the testing set\n",
    "* K-Nearest Neighbor model performs poorer on the testing set\n",
    "* The variation on the performance with different model suggests that the models are not well trained with these input features. Or in other words, these input features are not useful for predicting feedback from users. "
   ]
  }
 ],
 "metadata": {
  "kernelspec": {
   "display_name": "Python 3 (ipykernel)",
   "language": "python",
   "name": "python3"
  },
  "language_info": {
   "codemirror_mode": {
    "name": "ipython",
    "version": 3
   },
   "file_extension": ".py",
   "mimetype": "text/x-python",
   "name": "python",
   "nbconvert_exporter": "python",
   "pygments_lexer": "ipython3",
   "version": "3.9.7"
  }
 },
 "nbformat": 4,
 "nbformat_minor": 5
}
